{
 "cells": [
  {
   "cell_type": "code",
   "execution_count": 41,
   "id": "0b1656bb",
   "metadata": {},
   "outputs": [],
   "source": [
    "import pandas as pd\n",
    "import numpy as np"
   ]
  },
  {
   "cell_type": "code",
   "execution_count": 42,
   "id": "99003087",
   "metadata": {},
   "outputs": [],
   "source": [
    "df=pd.read_csv('Housing.csv')"
   ]
  },
  {
   "cell_type": "code",
   "execution_count": 43,
   "id": "05da1a17",
   "metadata": {},
   "outputs": [],
   "source": [
    "num_cols=df.select_dtypes(include=['int64','float64']).columns\n",
    "cat_cols=df.select_dtypes(include=['object']).columns"
   ]
  },
  {
   "cell_type": "code",
   "execution_count": 44,
   "id": "3133e4cc",
   "metadata": {},
   "outputs": [
    {
     "data": {
      "text/plain": [
       "Index(['mainroad', 'guestroom', 'basement', 'hotwaterheating',\n",
       "       'airconditioning', 'prefarea', 'furnishingstatus'],\n",
       "      dtype='object')"
      ]
     },
     "execution_count": 44,
     "metadata": {},
     "output_type": "execute_result"
    }
   ],
   "source": [
    "cat_cols"
   ]
  },
  {
   "cell_type": "code",
   "execution_count": 45,
   "id": "8925f10a",
   "metadata": {},
   "outputs": [
    {
     "data": {
      "text/plain": [
       "((7,), (6,), (545, 13))"
      ]
     },
     "execution_count": 45,
     "metadata": {},
     "output_type": "execute_result"
    }
   ],
   "source": [
    "cat_cols.shape,num_cols.shape,df.shape"
   ]
  },
  {
   "cell_type": "code",
   "execution_count": 46,
   "id": "3d1a1221",
   "metadata": {},
   "outputs": [],
   "source": [
    "can_be_cat=[]\n",
    "for i in num_cols:\n",
    "    x=df[i].value_counts().shape[0] \n",
    "    \n",
    "    if x<= 15:\n",
    "       can_be_cat.append(i)"
   ]
  },
  {
   "cell_type": "code",
   "execution_count": 47,
   "id": "58b79f55",
   "metadata": {},
   "outputs": [
    {
     "data": {
      "text/plain": [
       "['bedrooms', 'bathrooms', 'stories', 'parking']"
      ]
     },
     "execution_count": 47,
     "metadata": {},
     "output_type": "execute_result"
    }
   ],
   "source": [
    "can_be_cat"
   ]
  },
  {
   "cell_type": "code",
   "execution_count": 48,
   "id": "56f4f50a",
   "metadata": {},
   "outputs": [],
   "source": [
    "numreic_col=[]\n",
    "\n",
    "for i in num_cols:\n",
    "    if i not in can_be_cat:\n",
    "       numreic_col.append(i)"
   ]
  },
  {
   "cell_type": "code",
   "execution_count": 49,
   "id": "76377d66",
   "metadata": {},
   "outputs": [
    {
     "data": {
      "text/plain": [
       "['price', 'area']"
      ]
     },
     "execution_count": 49,
     "metadata": {},
     "output_type": "execute_result"
    }
   ],
   "source": [
    "numreic_col"
   ]
  },
  {
   "cell_type": "code",
   "execution_count": 50,
   "id": "ca2c84a2",
   "metadata": {},
   "outputs": [
    {
     "data": {
      "text/plain": [
       "array(['mainroad', 'guestroom', 'basement', 'hotwaterheating',\n",
       "       'airconditioning', 'prefarea', 'furnishingstatus', 'bedrooms',\n",
       "       'bathrooms', 'stories', 'parking'], dtype=object)"
      ]
     },
     "execution_count": 50,
     "metadata": {},
     "output_type": "execute_result"
    }
   ],
   "source": [
    "for i in can_be_cat:\n",
    "    cat_cols=np.append(cat_cols,i)\n",
    "cat_cols"
   ]
  },
  {
   "cell_type": "code",
   "execution_count": 51,
   "id": "3b61d0c1",
   "metadata": {},
   "outputs": [
    {
     "data": {
      "text/plain": [
       "[array([0.8587156, 0.1412844]),\n",
       " array([0.82201835, 0.17798165]),\n",
       " array([0.64954128, 0.35045872]),\n",
       " array([0.95412844, 0.04587156]),\n",
       " array([0.68440367, 0.31559633]),\n",
       " array([0.76513761, 0.23486239]),\n",
       " array([0.41651376, 0.3266055 , 0.25688073]),\n",
       " array([0.55045872, 0.24954128, 0.17431193, 0.01834862, 0.00366972,\n",
       "        0.00366972]),\n",
       " array([0.73577982, 0.2440367 , 0.01834862, 0.00183486]),\n",
       " array([0.43669725, 0.41651376, 0.07522936, 0.07155963]),\n",
       " array([0.54862385, 0.23119266, 0.19816514, 0.02201835])]"
      ]
     },
     "execution_count": 51,
     "metadata": {},
     "output_type": "execute_result"
    }
   ],
   "source": [
    "prob=[]\n",
    "for i in cat_cols:\n",
    "    x=df[i].value_counts().values/(df[i].value_counts().values.sum())\n",
    "\n",
    "    prob.append(x)\n",
    "prob"
   ]
  },
  {
   "cell_type": "code",
   "execution_count": 52,
   "id": "8bb44a76",
   "metadata": {},
   "outputs": [
    {
     "data": {
      "text/plain": [
       "np.float64(11.381594352931907)"
      ]
     },
     "execution_count": 52,
     "metadata": {},
     "output_type": "execute_result"
    }
   ],
   "source": [
    "curr_entropy=0\n",
    "\n",
    "for i in prob:\n",
    "    for j in i:\n",
    "        curr_entropy+=(-j*np.log2(j))\n",
    "\n",
    "curr_entropy"
   ]
  },
  {
   "cell_type": "code",
   "execution_count": 53,
   "id": "fa22c9c1",
   "metadata": {},
   "outputs": [],
   "source": [
    "num_prob=[]\n",
    "for i in numreic_col:\n",
    "    binn=pd.cut(df[i],bins=15)\n",
    "    num_prob.append(binn.value_counts().values/(binn.value_counts().values.sum()))\n",
    " "
   ]
  },
  {
   "cell_type": "code",
   "execution_count": 54,
   "id": "84faf570",
   "metadata": {},
   "outputs": [],
   "source": [
    "\n",
    "for i in num_prob:\n",
    "    for j in i:\n",
    "        if j!=0:\n",
    "           curr_entropy+=(-j*np.log2(j))"
   ]
  },
  {
   "cell_type": "code",
   "execution_count": 55,
   "id": "838249a7",
   "metadata": {},
   "outputs": [
    {
     "data": {
      "text/plain": [
       "np.float64(17.486418283171574)"
      ]
     },
     "execution_count": 55,
     "metadata": {},
     "output_type": "execute_result"
    }
   ],
   "source": [
    "curr_entropy"
   ]
  },
  {
   "cell_type": "code",
   "execution_count": 57,
   "id": "2216ba0d",
   "metadata": {},
   "outputs": [],
   "source": [
    "from scipy.stats import entropy\n",
    "\n",
    "def calc_entropy(series):\n",
    "    counts = series.value_counts()\n",
    "    probs = counts / counts.sum()\n",
    "    return entropy(probs, base=2)\n",
    "\n",
    "# Example for all columns\n",
    "entropy_values =0\n",
    "for col in df.columns:\n",
    "    entropy_values+=calc_entropy(df[col])"
   ]
  },
  {
   "cell_type": "code",
   "execution_count": 58,
   "id": "d181ec50",
   "metadata": {},
   "outputs": [
    {
     "data": {
      "text/plain": [
       "np.float64(26.298106647276068)"
      ]
     },
     "execution_count": 58,
     "metadata": {},
     "output_type": "execute_result"
    }
   ],
   "source": [
    "entropy_values"
   ]
  }
 ],
 "metadata": {
  "kernelspec": {
   "display_name": "base",
   "language": "python",
   "name": "python3"
  },
  "language_info": {
   "codemirror_mode": {
    "name": "ipython",
    "version": 3
   },
   "file_extension": ".py",
   "mimetype": "text/x-python",
   "name": "python",
   "nbconvert_exporter": "python",
   "pygments_lexer": "ipython3",
   "version": "3.13.5"
  }
 },
 "nbformat": 4,
 "nbformat_minor": 5
}
