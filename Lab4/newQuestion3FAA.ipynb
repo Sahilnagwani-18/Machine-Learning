{
 "cells": [
  {
   "cell_type": "code",
   "execution_count": 19,
   "id": "074ecc30",
   "metadata": {},
   "outputs": [],
   "source": [
    "import pandas as pd\n",
    "import numpy as np"
   ]
  },
  {
   "cell_type": "code",
   "execution_count": 20,
   "id": "4cedd5c8",
   "metadata": {},
   "outputs": [],
   "source": [
    "df=pd.read_csv('faa_ai_prelim.csv')"
   ]
  },
  {
   "cell_type": "code",
   "execution_count": 21,
   "id": "563a8f62",
   "metadata": {},
   "outputs": [],
   "source": [
    "df = df.fillna(df.mean(numeric_only=True))  # for numeric\n",
    "df = df.fillna(df.mode().iloc[0])  "
   ]
  },
  {
   "cell_type": "code",
   "execution_count": 22,
   "id": "110e1fc1",
   "metadata": {},
   "outputs": [],
   "source": [
    "num_cols=df.select_dtypes(include=['int64','float64']).columns\n",
    "cat_cols=df.select_dtypes(include=['object']).columns"
   ]
  },
  {
   "cell_type": "code",
   "execution_count": 23,
   "id": "90728751",
   "metadata": {},
   "outputs": [
    {
     "data": {
      "text/plain": [
       "Index(['UPDATED', 'ENTRY_DATE', 'EVENT_LCL_DATE', 'EVENT_LCL_TIME',\n",
       "       'LOC_CITY_NAME', 'LOC_STATE_NAME', 'LOC_CNTRY_NAME', 'RMK_TEXT',\n",
       "       'EVENT_TYPE_DESC', 'FSDO_DESC', 'REGIST_NBR', 'FLT_NBR', 'ACFT_OPRTR',\n",
       "       'ACFT_MAKE_NAME', 'ACFT_MODEL_NAME', 'ACFT_DMG_DESC', 'FLT_ACTIVITY',\n",
       "       'FLT_PHASE', 'MAX_INJ_LVL', 'FATAL_FLAG'],\n",
       "      dtype='object')"
      ]
     },
     "execution_count": 23,
     "metadata": {},
     "output_type": "execute_result"
    }
   ],
   "source": [
    "cat_cols"
   ]
  },
  {
   "cell_type": "code",
   "execution_count": 24,
   "id": "fe526393",
   "metadata": {},
   "outputs": [
    {
     "data": {
      "text/plain": [
       "((20,), (22,), (83, 42))"
      ]
     },
     "execution_count": 24,
     "metadata": {},
     "output_type": "execute_result"
    }
   ],
   "source": [
    "cat_cols.shape,num_cols.shape,df.shape"
   ]
  },
  {
   "cell_type": "code",
   "execution_count": 25,
   "id": "eea13695",
   "metadata": {},
   "outputs": [],
   "source": [
    "\n",
    "can_be_cat=[]\n",
    "for i in num_cols:\n",
    "    x=df[i].value_counts().shape[0] \n",
    "    \n",
    "    if x<= 15:\n",
    "       can_be_cat.append(i)"
   ]
  },
  {
   "cell_type": "code",
   "execution_count": 26,
   "id": "4980180a",
   "metadata": {},
   "outputs": [
    {
     "data": {
      "text/plain": [
       "['ACFT_MISSING_FLAG',\n",
       " 'FAR_PART',\n",
       " 'FLT_CRW_INJ_NONE',\n",
       " 'FLT_CRW_INJ_MINOR',\n",
       " 'FLT_CRW_INJ_SERIOUS',\n",
       " 'FLT_CRW_INJ_FATAL',\n",
       " 'FLT_CRW_INJ_UNK',\n",
       " 'CBN_CRW_INJ_NONE',\n",
       " 'CBN_CRW_INJ_MINOR',\n",
       " 'CBN_CRW_INJ_SERIOUS',\n",
       " 'CBN_CRW_INJ_FATAL',\n",
       " 'CBN_CRW_INJ_UNK',\n",
       " 'PAX_INJ_NONE',\n",
       " 'PAX_INJ_MINOR',\n",
       " 'PAX_INJ_SERIOUS',\n",
       " 'PAX_INJ_FATAL',\n",
       " 'PAX_INJ_UNK',\n",
       " 'GRND_INJ_NONE',\n",
       " 'GRND_INJ_MINOR',\n",
       " 'GRND_INJ_SERIOUS',\n",
       " 'GRND_INJ_FATAL',\n",
       " 'GRND_INJ_UNK']"
      ]
     },
     "execution_count": 26,
     "metadata": {},
     "output_type": "execute_result"
    }
   ],
   "source": [
    "\n",
    "can_be_cat"
   ]
  },
  {
   "cell_type": "code",
   "execution_count": 27,
   "id": "3d1e7d86",
   "metadata": {},
   "outputs": [],
   "source": [
    "numreic_col=[]\n",
    "\n",
    "for i in num_cols:\n",
    "    if i not in can_be_cat:\n",
    "       numreic_col.append(i)"
   ]
  },
  {
   "cell_type": "code",
   "execution_count": 28,
   "id": "d05820b6",
   "metadata": {},
   "outputs": [
    {
     "data": {
      "text/plain": [
       "[]"
      ]
     },
     "execution_count": 28,
     "metadata": {},
     "output_type": "execute_result"
    }
   ],
   "source": [
    "numreic_col"
   ]
  },
  {
   "cell_type": "code",
   "execution_count": 29,
   "id": "53a5262c",
   "metadata": {},
   "outputs": [
    {
     "data": {
      "text/plain": [
       "array(['UPDATED', 'ENTRY_DATE', 'EVENT_LCL_DATE', 'EVENT_LCL_TIME',\n",
       "       'LOC_CITY_NAME', 'LOC_STATE_NAME', 'LOC_CNTRY_NAME', 'RMK_TEXT',\n",
       "       'EVENT_TYPE_DESC', 'FSDO_DESC', 'REGIST_NBR', 'FLT_NBR',\n",
       "       'ACFT_OPRTR', 'ACFT_MAKE_NAME', 'ACFT_MODEL_NAME', 'ACFT_DMG_DESC',\n",
       "       'FLT_ACTIVITY', 'FLT_PHASE', 'MAX_INJ_LVL', 'FATAL_FLAG',\n",
       "       'ACFT_MISSING_FLAG', 'FAR_PART', 'FLT_CRW_INJ_NONE',\n",
       "       'FLT_CRW_INJ_MINOR', 'FLT_CRW_INJ_SERIOUS', 'FLT_CRW_INJ_FATAL',\n",
       "       'FLT_CRW_INJ_UNK', 'CBN_CRW_INJ_NONE', 'CBN_CRW_INJ_MINOR',\n",
       "       'CBN_CRW_INJ_SERIOUS', 'CBN_CRW_INJ_FATAL', 'CBN_CRW_INJ_UNK',\n",
       "       'PAX_INJ_NONE', 'PAX_INJ_MINOR', 'PAX_INJ_SERIOUS',\n",
       "       'PAX_INJ_FATAL', 'PAX_INJ_UNK', 'GRND_INJ_NONE', 'GRND_INJ_MINOR',\n",
       "       'GRND_INJ_SERIOUS', 'GRND_INJ_FATAL', 'GRND_INJ_UNK'], dtype=object)"
      ]
     },
     "execution_count": 29,
     "metadata": {},
     "output_type": "execute_result"
    }
   ],
   "source": [
    "for i in can_be_cat:\n",
    "    cat_cols=np.append(cat_cols,i)\n",
    "cat_cols"
   ]
  },
  {
   "cell_type": "code",
   "execution_count": 30,
   "id": "8b4c5cb2",
   "metadata": {},
   "outputs": [
    {
     "data": {
      "text/plain": [
       "[array([0.96385542, 0.03614458]),\n",
       " array([0.3253012 , 0.19277108, 0.15662651, 0.07228916, 0.06024096,\n",
       "        0.06024096, 0.06024096, 0.03614458, 0.02409639, 0.01204819]),\n",
       " array([0.14457831, 0.09638554, 0.09638554, 0.08433735, 0.08433735,\n",
       "        0.08433735, 0.06024096, 0.06024096, 0.06024096, 0.04819277,\n",
       "        0.04819277, 0.03614458, 0.02409639, 0.02409639, 0.01204819,\n",
       "        0.01204819, 0.01204819, 0.01204819]),\n",
       " array([0.03614458, 0.02409639, 0.02409639, 0.02409639, 0.02409639,\n",
       "        0.02409639, 0.01204819, 0.01204819, 0.01204819, 0.01204819,\n",
       "        0.01204819, 0.01204819, 0.01204819, 0.01204819, 0.01204819,\n",
       "        0.01204819, 0.01204819, 0.01204819, 0.01204819, 0.01204819,\n",
       "        0.01204819, 0.01204819, 0.01204819, 0.01204819, 0.01204819,\n",
       "        0.01204819, 0.01204819, 0.01204819, 0.01204819, 0.01204819,\n",
       "        0.01204819, 0.01204819, 0.01204819, 0.01204819, 0.01204819,\n",
       "        0.01204819, 0.01204819, 0.01204819, 0.01204819, 0.01204819,\n",
       "        0.01204819, 0.01204819, 0.01204819, 0.01204819, 0.01204819,\n",
       "        0.01204819, 0.01204819, 0.01204819, 0.01204819, 0.01204819,\n",
       "        0.01204819, 0.01204819, 0.01204819, 0.01204819, 0.01204819,\n",
       "        0.01204819, 0.01204819, 0.01204819, 0.01204819, 0.01204819,\n",
       "        0.01204819, 0.01204819, 0.01204819, 0.01204819, 0.01204819,\n",
       "        0.01204819, 0.01204819, 0.01204819, 0.01204819, 0.01204819,\n",
       "        0.01204819, 0.01204819, 0.01204819, 0.01204819, 0.01204819,\n",
       "        0.01204819]),\n",
       " array([0.02409639, 0.02409639, 0.02409639, 0.02409639, 0.01204819,\n",
       "        0.01204819, 0.01204819, 0.01204819, 0.01204819, 0.01204819,\n",
       "        0.01204819, 0.01204819, 0.01204819, 0.01204819, 0.01204819,\n",
       "        0.01204819, 0.01204819, 0.01204819, 0.01204819, 0.01204819,\n",
       "        0.01204819, 0.01204819, 0.01204819, 0.01204819, 0.01204819,\n",
       "        0.01204819, 0.01204819, 0.01204819, 0.01204819, 0.01204819,\n",
       "        0.01204819, 0.01204819, 0.01204819, 0.01204819, 0.01204819,\n",
       "        0.01204819, 0.01204819, 0.01204819, 0.01204819, 0.01204819,\n",
       "        0.01204819, 0.01204819, 0.01204819, 0.01204819, 0.01204819,\n",
       "        0.01204819, 0.01204819, 0.01204819, 0.01204819, 0.01204819,\n",
       "        0.01204819, 0.01204819, 0.01204819, 0.01204819, 0.01204819,\n",
       "        0.01204819, 0.01204819, 0.01204819, 0.01204819, 0.01204819,\n",
       "        0.01204819, 0.01204819, 0.01204819, 0.01204819, 0.01204819,\n",
       "        0.01204819, 0.01204819, 0.01204819, 0.01204819, 0.01204819,\n",
       "        0.01204819, 0.01204819, 0.01204819, 0.01204819, 0.01204819,\n",
       "        0.01204819, 0.01204819, 0.01204819, 0.01204819]),\n",
       " array([0.19277108, 0.15662651, 0.07228916, 0.06024096, 0.03614458,\n",
       "        0.03614458, 0.03614458, 0.02409639, 0.02409639, 0.02409639,\n",
       "        0.02409639, 0.02409639, 0.02409639, 0.02409639, 0.02409639,\n",
       "        0.01204819, 0.01204819, 0.01204819, 0.01204819, 0.01204819,\n",
       "        0.01204819, 0.01204819, 0.01204819, 0.01204819, 0.01204819,\n",
       "        0.01204819, 0.01204819, 0.01204819, 0.01204819, 0.01204819,\n",
       "        0.01204819, 0.01204819, 0.01204819]),\n",
       " array([1.]),\n",
       " array([0.02409639, 0.02409639, 0.01204819, 0.01204819, 0.01204819,\n",
       "        0.01204819, 0.01204819, 0.01204819, 0.01204819, 0.01204819,\n",
       "        0.01204819, 0.01204819, 0.01204819, 0.01204819, 0.01204819,\n",
       "        0.01204819, 0.01204819, 0.01204819, 0.01204819, 0.01204819,\n",
       "        0.01204819, 0.01204819, 0.01204819, 0.01204819, 0.01204819,\n",
       "        0.01204819, 0.01204819, 0.01204819, 0.01204819, 0.01204819,\n",
       "        0.01204819, 0.01204819, 0.01204819, 0.01204819, 0.01204819,\n",
       "        0.01204819, 0.01204819, 0.01204819, 0.01204819, 0.01204819,\n",
       "        0.01204819, 0.01204819, 0.01204819, 0.01204819, 0.01204819,\n",
       "        0.01204819, 0.01204819, 0.01204819, 0.01204819, 0.01204819,\n",
       "        0.01204819, 0.01204819, 0.01204819, 0.01204819, 0.01204819,\n",
       "        0.01204819, 0.01204819, 0.01204819, 0.01204819, 0.01204819,\n",
       "        0.01204819, 0.01204819, 0.01204819, 0.01204819, 0.01204819,\n",
       "        0.01204819, 0.01204819, 0.01204819, 0.01204819, 0.01204819,\n",
       "        0.01204819, 0.01204819, 0.01204819, 0.01204819, 0.01204819,\n",
       "        0.01204819, 0.01204819, 0.01204819, 0.01204819, 0.01204819,\n",
       "        0.01204819]),\n",
       " array([0.6746988, 0.3253012]),\n",
       " array([0.10843373, 0.06024096, 0.06024096, 0.04819277, 0.03614458,\n",
       "        0.03614458, 0.03614458, 0.03614458, 0.02409639, 0.02409639,\n",
       "        0.02409639, 0.02409639, 0.02409639, 0.02409639, 0.02409639,\n",
       "        0.02409639, 0.02409639, 0.02409639, 0.02409639, 0.01204819,\n",
       "        0.01204819, 0.01204819, 0.01204819, 0.01204819, 0.01204819,\n",
       "        0.01204819, 0.01204819, 0.01204819, 0.01204819, 0.01204819,\n",
       "        0.01204819, 0.01204819, 0.01204819, 0.01204819, 0.01204819,\n",
       "        0.01204819, 0.01204819, 0.01204819, 0.01204819, 0.01204819,\n",
       "        0.01204819, 0.01204819, 0.01204819, 0.01204819, 0.01204819]),\n",
       " array([0.01204819, 0.01204819, 0.01204819, 0.01204819, 0.01204819,\n",
       "        0.01204819, 0.01204819, 0.01204819, 0.01204819, 0.01204819,\n",
       "        0.01204819, 0.01204819, 0.01204819, 0.01204819, 0.01204819,\n",
       "        0.01204819, 0.01204819, 0.01204819, 0.01204819, 0.01204819,\n",
       "        0.01204819, 0.01204819, 0.01204819, 0.01204819, 0.01204819,\n",
       "        0.01204819, 0.01204819, 0.01204819, 0.01204819, 0.01204819,\n",
       "        0.01204819, 0.01204819, 0.01204819, 0.01204819, 0.01204819,\n",
       "        0.01204819, 0.01204819, 0.01204819, 0.01204819, 0.01204819,\n",
       "        0.01204819, 0.01204819, 0.01204819, 0.01204819, 0.01204819,\n",
       "        0.01204819, 0.01204819, 0.01204819, 0.01204819, 0.01204819,\n",
       "        0.01204819, 0.01204819, 0.01204819, 0.01204819, 0.01204819,\n",
       "        0.01204819, 0.01204819, 0.01204819, 0.01204819, 0.01204819,\n",
       "        0.01204819, 0.01204819, 0.01204819, 0.01204819, 0.01204819,\n",
       "        0.01204819, 0.01204819, 0.01204819, 0.01204819, 0.01204819,\n",
       "        0.01204819, 0.01204819, 0.01204819, 0.01204819, 0.01204819,\n",
       "        0.01204819, 0.01204819, 0.01204819, 0.01204819, 0.01204819,\n",
       "        0.01204819, 0.01204819, 0.01204819]),\n",
       " array([0.93975904, 0.01204819, 0.01204819, 0.01204819, 0.01204819,\n",
       "        0.01204819]),\n",
       " array([0.93975904, 0.01204819, 0.01204819, 0.01204819, 0.01204819,\n",
       "        0.01204819]),\n",
       " array([0.3373494 , 0.12048193, 0.10843373, 0.04819277, 0.03614458,\n",
       "        0.02409639, 0.02409639, 0.02409639, 0.02409639, 0.01204819,\n",
       "        0.01204819, 0.01204819, 0.01204819, 0.01204819, 0.01204819,\n",
       "        0.01204819, 0.01204819, 0.01204819, 0.01204819, 0.01204819,\n",
       "        0.01204819, 0.01204819, 0.01204819, 0.01204819, 0.01204819,\n",
       "        0.01204819, 0.01204819, 0.01204819, 0.01204819, 0.01204819]),\n",
       " array([0.09638554, 0.04819277, 0.03614458, 0.03614458, 0.03614458,\n",
       "        0.03614458, 0.03614458, 0.03614458, 0.02409639, 0.02409639,\n",
       "        0.02409639, 0.02409639, 0.02409639, 0.02409639, 0.02409639,\n",
       "        0.01204819, 0.01204819, 0.01204819, 0.01204819, 0.01204819,\n",
       "        0.01204819, 0.01204819, 0.01204819, 0.01204819, 0.01204819,\n",
       "        0.01204819, 0.01204819, 0.01204819, 0.01204819, 0.01204819,\n",
       "        0.01204819, 0.01204819, 0.01204819, 0.01204819, 0.01204819,\n",
       "        0.01204819, 0.01204819, 0.01204819, 0.01204819, 0.01204819,\n",
       "        0.01204819, 0.01204819, 0.01204819, 0.01204819, 0.01204819,\n",
       "        0.01204819, 0.01204819, 0.01204819, 0.01204819, 0.01204819,\n",
       "        0.01204819, 0.01204819, 0.01204819, 0.01204819]),\n",
       " array([0.46987952, 0.26506024, 0.19277108, 0.07228916]),\n",
       " array([0.90361446, 0.04819277, 0.02409639, 0.01204819, 0.01204819]),\n",
       " array([0.57831325, 0.15662651, 0.12048193, 0.08433735, 0.03614458,\n",
       "        0.02409639]),\n",
       " array([0.86746988, 0.06024096, 0.04819277, 0.02409639]),\n",
       " array([1.]),\n",
       " array([], dtype=float64),\n",
       " array([1.]),\n",
       " array([0.65060241, 0.22891566, 0.10843373, 0.01204819]),\n",
       " array([0.92771084, 0.04819277, 0.02409639]),\n",
       " array([1.]),\n",
       " array([0.90361446, 0.04819277, 0.04819277]),\n",
       " array([], dtype=float64),\n",
       " array([], dtype=float64),\n",
       " array([], dtype=float64),\n",
       " array([], dtype=float64),\n",
       " array([], dtype=float64),\n",
       " array([1.]),\n",
       " array([0.79518072, 0.09638554, 0.08433735, 0.01204819, 0.01204819]),\n",
       " array([1.]),\n",
       " array([1.]),\n",
       " array([1.]),\n",
       " array([], dtype=float64),\n",
       " array([], dtype=float64),\n",
       " array([], dtype=float64),\n",
       " array([], dtype=float64),\n",
       " array([], dtype=float64),\n",
       " array([1.])]"
      ]
     },
     "execution_count": 30,
     "metadata": {},
     "output_type": "execute_result"
    }
   ],
   "source": [
    "prob=[]\n",
    "for i in cat_cols:\n",
    "    x=df[i].value_counts().values/(df[i].value_counts().values.sum())\n",
    "\n",
    "    prob.append(x)\n",
    "prob"
   ]
  },
  {
   "cell_type": "code",
   "execution_count": 31,
   "id": "fe041512",
   "metadata": {},
   "outputs": [
    {
     "data": {
      "text/plain": [
       "np.float64(60.95847119965141)"
      ]
     },
     "execution_count": 31,
     "metadata": {},
     "output_type": "execute_result"
    }
   ],
   "source": [
    "curr_entropy=0\n",
    "\n",
    "for i in prob:\n",
    "    for j in i:\n",
    "        curr_entropy+=(-j*np.log2(j))\n",
    "\n",
    "curr_entropy"
   ]
  },
  {
   "cell_type": "code",
   "execution_count": 32,
   "id": "8f95501b",
   "metadata": {},
   "outputs": [],
   "source": [
    "num_prob=[]\n",
    "for i in numreic_col:\n",
    "    binn=pd.cut(df[i],bins=15)\n",
    "    num_prob.append(binn.value_counts().values/(binn.value_counts().values.sum()))\n",
    " "
   ]
  },
  {
   "cell_type": "code",
   "execution_count": 33,
   "id": "73d10d7b",
   "metadata": {},
   "outputs": [],
   "source": [
    "\n",
    "for i in num_prob:\n",
    "    for j in i:\n",
    "        if j!=0:\n",
    "           curr_entropy+=(-j*np.log2(j))"
   ]
  },
  {
   "cell_type": "code",
   "execution_count": 34,
   "id": "b5dfcad1",
   "metadata": {},
   "outputs": [
    {
     "data": {
      "text/plain": [
       "np.float64(60.95847119965141)"
      ]
     },
     "execution_count": 34,
     "metadata": {},
     "output_type": "execute_result"
    }
   ],
   "source": [
    "curr_entropy"
   ]
  },
  {
   "cell_type": "code",
   "execution_count": 35,
   "id": "01a13dd8",
   "metadata": {},
   "outputs": [],
   "source": [
    "from scipy.stats import entropy\n",
    "\n",
    "def calc_entropy(series):\n",
    "    counts = series.value_counts()\n",
    "    probs = counts / counts.sum()\n",
    "    return entropy(probs, base=2)\n",
    "\n",
    "# Example for all columns\n",
    "entropy_values =0\n",
    "for col in df.columns:\n",
    "    entropy_values+=calc_entropy(df[col])"
   ]
  },
  {
   "cell_type": "code",
   "execution_count": 36,
   "id": "7b5feb93",
   "metadata": {},
   "outputs": [
    {
     "data": {
      "text/plain": [
       "np.float64(60.95847119965169)"
      ]
     },
     "execution_count": 36,
     "metadata": {},
     "output_type": "execute_result"
    }
   ],
   "source": [
    "entropy_values"
   ]
  }
 ],
 "metadata": {
  "kernelspec": {
   "display_name": "base",
   "language": "python",
   "name": "python3"
  },
  "language_info": {
   "codemirror_mode": {
    "name": "ipython",
    "version": 3
   },
   "file_extension": ".py",
   "mimetype": "text/x-python",
   "name": "python",
   "nbconvert_exporter": "python",
   "pygments_lexer": "ipython3",
   "version": "3.13.5"
  }
 },
 "nbformat": 4,
 "nbformat_minor": 5
}
