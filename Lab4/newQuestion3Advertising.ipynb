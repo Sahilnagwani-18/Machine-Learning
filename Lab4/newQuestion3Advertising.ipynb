{
 "cells": [
  {
   "cell_type": "code",
   "execution_count": 1,
   "id": "b1f87940",
   "metadata": {},
   "outputs": [],
   "source": [
    "import pandas as pd\n",
    "import numpy as np"
   ]
  },
  {
   "cell_type": "code",
   "execution_count": 2,
   "id": "29c7123d",
   "metadata": {},
   "outputs": [],
   "source": [
    "df=pd.read_csv('advertising.csv')"
   ]
  },
  {
   "cell_type": "code",
   "execution_count": 3,
   "id": "f7a42ced",
   "metadata": {},
   "outputs": [],
   "source": [
    "num_cols=df.select_dtypes(include=['int64','float64']).columns\n",
    "cat_cols=df.select_dtypes(include=['object']).columns"
   ]
  },
  {
   "cell_type": "code",
   "execution_count": 4,
   "id": "08b2037f",
   "metadata": {},
   "outputs": [
    {
     "data": {
      "text/plain": [
       "Index([], dtype='object')"
      ]
     },
     "execution_count": 4,
     "metadata": {},
     "output_type": "execute_result"
    }
   ],
   "source": [
    "cat_cols"
   ]
  },
  {
   "cell_type": "code",
   "execution_count": 5,
   "id": "caa2ae5f",
   "metadata": {},
   "outputs": [
    {
     "data": {
      "text/plain": [
       "((0,), (4,), (200, 4))"
      ]
     },
     "execution_count": 5,
     "metadata": {},
     "output_type": "execute_result"
    }
   ],
   "source": [
    "cat_cols.shape,num_cols.shape,df.shape"
   ]
  },
  {
   "cell_type": "code",
   "execution_count": 6,
   "id": "80349569",
   "metadata": {},
   "outputs": [],
   "source": [
    "can_be_cat=[]\n",
    "for i in num_cols:\n",
    "    x=df[i].value_counts().shape[0] \n",
    "    \n",
    "    if x<= 15:\n",
    "       can_be_cat.append(i)"
   ]
  },
  {
   "cell_type": "code",
   "execution_count": 7,
   "id": "803c5b86",
   "metadata": {},
   "outputs": [
    {
     "data": {
      "text/plain": [
       "[]"
      ]
     },
     "execution_count": 7,
     "metadata": {},
     "output_type": "execute_result"
    }
   ],
   "source": [
    "can_be_cat"
   ]
  },
  {
   "cell_type": "code",
   "execution_count": 8,
   "id": "1318f511",
   "metadata": {},
   "outputs": [],
   "source": [
    "numreic_col=[]\n",
    "\n",
    "for i in num_cols:\n",
    "    if i not in can_be_cat:\n",
    "       numreic_col.append(i)"
   ]
  },
  {
   "cell_type": "code",
   "execution_count": 9,
   "id": "eb2283ea",
   "metadata": {},
   "outputs": [
    {
     "data": {
      "text/plain": [
       "['TV', 'Radio', 'Newspaper', 'Sales']"
      ]
     },
     "execution_count": 9,
     "metadata": {},
     "output_type": "execute_result"
    }
   ],
   "source": [
    "numreic_col"
   ]
  },
  {
   "cell_type": "code",
   "execution_count": 10,
   "id": "06405ce7",
   "metadata": {},
   "outputs": [
    {
     "data": {
      "text/plain": [
       "Index([], dtype='object')"
      ]
     },
     "execution_count": 10,
     "metadata": {},
     "output_type": "execute_result"
    }
   ],
   "source": [
    "for i in can_be_cat:\n",
    "    cat_cols=np.append(cat_cols,i)\n",
    "cat_cols"
   ]
  },
  {
   "cell_type": "code",
   "execution_count": 11,
   "id": "4a10b2da",
   "metadata": {},
   "outputs": [
    {
     "data": {
      "text/plain": [
       "[]"
      ]
     },
     "execution_count": 11,
     "metadata": {},
     "output_type": "execute_result"
    }
   ],
   "source": [
    "prob=[]\n",
    "for i in cat_cols:\n",
    "    x=df[i].value_counts().values/(df[i].value_counts().values.sum())\n",
    "\n",
    "    prob.append(x)\n",
    "prob"
   ]
  },
  {
   "cell_type": "code",
   "execution_count": 12,
   "id": "6e17857f",
   "metadata": {},
   "outputs": [
    {
     "data": {
      "text/plain": [
       "0"
      ]
     },
     "execution_count": 12,
     "metadata": {},
     "output_type": "execute_result"
    }
   ],
   "source": [
    "curr_entropy=0\n",
    "\n",
    "for i in prob:\n",
    "    for j in i:\n",
    "        curr_entropy+=(-j*np.log2(j))\n",
    "\n",
    "curr_entropy"
   ]
  },
  {
   "cell_type": "code",
   "execution_count": 13,
   "id": "d41290dd",
   "metadata": {},
   "outputs": [],
   "source": [
    "num_prob=[]\n",
    "for i in numreic_col:\n",
    "    binn=pd.cut(df[i],bins=15)\n",
    "    num_prob.append(binn.value_counts().values/(binn.value_counts().values.sum()))\n",
    " "
   ]
  },
  {
   "cell_type": "code",
   "execution_count": 14,
   "id": "199b6e8d",
   "metadata": {},
   "outputs": [],
   "source": [
    "\n",
    "for i in num_prob:\n",
    "    for j in i:\n",
    "        if j!=0:\n",
    "           curr_entropy+=(-j*np.log2(j))"
   ]
  },
  {
   "cell_type": "code",
   "execution_count": 17,
   "id": "aceaf34f",
   "metadata": {},
   "outputs": [
    {
     "data": {
      "text/plain": [
       "np.float64(14.619668351968214)"
      ]
     },
     "execution_count": 17,
     "metadata": {},
     "output_type": "execute_result"
    }
   ],
   "source": [
    "curr_entropy"
   ]
  },
  {
   "cell_type": "code",
   "execution_count": 15,
   "id": "286f4370",
   "metadata": {},
   "outputs": [],
   "source": [
    "from scipy.stats import entropy\n",
    "\n",
    "def calc_entropy(series):\n",
    "    counts = series.value_counts()\n",
    "    probs = counts / counts.sum()\n",
    "    return entropy(probs, base=2)\n",
    "\n",
    "# Example for all columns\n",
    "entropy_values =0\n",
    "for col in df.columns:\n",
    "    entropy_values+=calc_entropy(df[col])"
   ]
  },
  {
   "cell_type": "code",
   "execution_count": null,
   "id": "73018ef8",
   "metadata": {},
   "outputs": [],
   "source": []
  },
  {
   "cell_type": "code",
   "execution_count": 16,
   "id": "fb4d9f1e",
   "metadata": {},
   "outputs": [
    {
     "data": {
      "text/plain": [
       "np.float64(28.94629072911655)"
      ]
     },
     "execution_count": 16,
     "metadata": {},
     "output_type": "execute_result"
    }
   ],
   "source": [
    "entropy_values"
   ]
  }
 ],
 "metadata": {
  "kernelspec": {
   "display_name": "base",
   "language": "python",
   "name": "python3"
  },
  "language_info": {
   "codemirror_mode": {
    "name": "ipython",
    "version": 3
   },
   "file_extension": ".py",
   "mimetype": "text/x-python",
   "name": "python",
   "nbconvert_exporter": "python",
   "pygments_lexer": "ipython3",
   "version": "3.13.5"
  }
 },
 "nbformat": 4,
 "nbformat_minor": 5
}
