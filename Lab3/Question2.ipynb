{
 "cells": [
  {
   "cell_type": "code",
   "execution_count": 7,
   "id": "eb578546",
   "metadata": {},
   "outputs": [],
   "source": [
    "import numpy as np\n",
    "import pandas as pd\n",
    "import matplotlib.pyplot as plt"
   ]
  },
  {
   "cell_type": "code",
   "execution_count": 8,
   "id": "5fcef965",
   "metadata": {},
   "outputs": [],
   "source": [
    "def mse(y_true, y_pred):\n",
    "    return np.mean((y_true - y_pred) ** 2)"
   ]
  },
  {
   "cell_type": "code",
   "execution_count": 9,
   "id": "b0f30fd0",
   "metadata": {},
   "outputs": [],
   "source": [
    "class SimpleGradientDescent:\n",
    "    def __init__(self, learning_rate=0.01, iterations=1000):\n",
    "        self.lr = learning_rate\n",
    "        self.iters = iterations\n",
    "        self.weights = None\n",
    "        self.bias = None\n",
    "        self.loss_history = []\n",
    "\n",
    "    def fit(self, X, y):\n",
    "        n_samples, n_features = X.shape\n",
    "        self.weights = np.zeros(n_features)\n",
    "        self.bias = 0\n",
    "\n",
    "        for i in range(self.iters):\n",
    "            y_pred = np.dot(X, self.weights) + self.bias\n",
    "\n",
    "            \n",
    "            dw = (-2/n_samples) * np.dot(X.T, (y - y_pred))\n",
    "            db = (-2/n_samples) * np.sum(y - y_pred)\n",
    "\n",
    "            \n",
    "            self.weights -= self.lr * dw\n",
    "            self.bias -= self.lr * db\n",
    "\n",
    "            \n",
    "            loss = mse(y, y_pred)\n",
    "            self.loss_history.append(loss)\n",
    "\n",
    "    def predict(self, X):\n",
    "        return np.dot(X, self.weights) + self.bias\n",
    "\n"
   ]
  },
  {
   "cell_type": "code",
   "execution_count": 10,
   "id": "3d5c5037",
   "metadata": {},
   "outputs": [],
   "source": [
    "class MomentumGradientDescent:\n",
    "    def __init__(self, learning_rate=0.01, iterations=1000, gamma=0.9):\n",
    "        self.lr = learning_rate\n",
    "        self.iters = iterations\n",
    "        self.gamma = gamma\n",
    "        self.weights = None\n",
    "        self.bias = None\n",
    "        self.loss_history = []\n",
    "\n",
    "    def fit(self, X, y):\n",
    "        n_samples, n_features = X.shape\n",
    "        self.weights = np.zeros(n_features)\n",
    "        self.bias = 0\n",
    "\n",
    "        v_w = np.zeros(n_features)\n",
    "        v_b = 0\n",
    "\n",
    "        for i in range(self.iters):\n",
    "            y_pred = np.dot(X, self.weights) + self.bias\n",
    "\n",
    "            \n",
    "            dw = (-2/n_samples) * np.dot(X.T, (y - y_pred))\n",
    "            db = (-2/n_samples) * np.sum(y - y_pred)\n",
    "\n",
    "            \n",
    "            v_w = self.gamma * v_w + self.lr * dw\n",
    "            v_b = self.gamma * v_b + self.lr * db\n",
    "\n",
    "            self.weights -= v_w\n",
    "            self.bias -= v_b\n",
    "\n",
    "            loss = mse(y, y_pred)\n",
    "            self.loss_history.append(loss)\n",
    "\n",
    "    def predict(self, X):\n",
    "        return np.dot(X, self.weights) + self.bias\n",
    "\n"
   ]
  },
  {
   "cell_type": "code",
   "execution_count": 11,
   "id": "156c3086",
   "metadata": {},
   "outputs": [],
   "source": [
    "class NesterovGradientDescent:\n",
    "    def __init__(self, learning_rate=0.01, iterations=1000, gamma=0.9):\n",
    "        self.lr = learning_rate\n",
    "        self.iters = iterations\n",
    "        self.gamma = gamma\n",
    "        self.weights = None\n",
    "        self.bias = None\n",
    "        self.loss_history = []\n",
    "\n",
    "    def fit(self, X, y):\n",
    "        n_samples, n_features = X.shape\n",
    "        self.weights = np.zeros(n_features)\n",
    "        self.bias = 0\n",
    "\n",
    "        v_w = np.zeros(n_features)\n",
    "        v_b = 0\n",
    "\n",
    "        for i in range(self.iters):\n",
    "            \n",
    "            w_lookahead = self.weights - self.gamma * v_w\n",
    "            b_lookahead = self.bias - self.gamma * v_b\n",
    "\n",
    "            y_pred = np.dot(X, w_lookahead) + b_lookahead\n",
    "\n",
    "            \n",
    "            dw = (-2/n_samples) * np.dot(X.T, (y - y_pred))\n",
    "            db = (-2/n_samples) * np.sum(y - y_pred)\n",
    "\n",
    "            \n",
    "            v_w = self.gamma * v_w + self.lr * dw\n",
    "            v_b = self.gamma * v_b + self.lr * db\n",
    "\n",
    "            self.weights -= v_w\n",
    "            self.bias -= v_b\n",
    "\n",
    "            loss = mse(y, y_pred)\n",
    "            self.loss_history.append(loss)\n",
    "\n",
    "    def predict(self, X):\n",
    "        return np.dot(X, self.weights) + self.bias\n",
    "\n"
   ]
  },
  {
   "cell_type": "code",
   "execution_count": 12,
   "id": "f3da16cf",
   "metadata": {},
   "outputs": [],
   "source": [
    "df=pd.read_csv('advertising.csv')"
   ]
  },
  {
   "cell_type": "code",
   "execution_count": 13,
   "id": "c4320c4c",
   "metadata": {},
   "outputs": [
    {
     "name": "stdout",
     "output_type": "stream",
     "text": [
      "<class 'pandas.core.frame.DataFrame'>\n",
      "RangeIndex: 200 entries, 0 to 199\n",
      "Data columns (total 4 columns):\n",
      " #   Column     Non-Null Count  Dtype  \n",
      "---  ------     --------------  -----  \n",
      " 0   TV         200 non-null    float64\n",
      " 1   Radio      200 non-null    float64\n",
      " 2   Newspaper  200 non-null    float64\n",
      " 3   Sales      200 non-null    float64\n",
      "dtypes: float64(4)\n",
      "memory usage: 6.4 KB\n"
     ]
    }
   ],
   "source": [
    "df.head()\n",
    "df.describe()\n",
    "df.info()"
   ]
  },
  {
   "cell_type": "code",
   "execution_count": 14,
   "id": "428f1f6f",
   "metadata": {},
   "outputs": [],
   "source": [
    "num_cols = df.select_dtypes(include=['int64', 'float64']).columns.tolist()\n",
    "\n",
    "cat_cols = df.select_dtypes(include=['object']).columns.tolist()"
   ]
  },
  {
   "cell_type": "code",
   "execution_count": 15,
   "id": "5e5a18b4",
   "metadata": {},
   "outputs": [
    {
     "name": "stdout",
     "output_type": "stream",
     "text": [
      "Numerical Columns: ['TV', 'Radio', 'Newspaper', 'Sales']\n",
      "Categorical Columns: []\n"
     ]
    }
   ],
   "source": [
    "print(\"Numerical Columns:\", num_cols)\n",
    "print(\"Categorical Columns:\", cat_cols)"
   ]
  },
  {
   "cell_type": "code",
   "execution_count": 16,
   "id": "fc3ade33",
   "metadata": {},
   "outputs": [],
   "source": [
    "for col in cat_cols:\n",
    "    print(f\"{col} --> {df[col].unique()}\")"
   ]
  },
  {
   "cell_type": "code",
   "execution_count": 17,
   "id": "a0352f15",
   "metadata": {},
   "outputs": [],
   "source": [
    "from sklearn.preprocessing import StandardScaler\n",
    "X = df.drop('Sales', axis=1)\n",
    "X = X.fillna(X.mean())\n",
    "scaler = StandardScaler()\n",
    "X_scaled = scaler.fit_transform(X) \n",
    "X = X_scaled\n",
    "y = df['Sales']"
   ]
  },
  {
   "cell_type": "code",
   "execution_count": 18,
   "id": "91956549",
   "metadata": {},
   "outputs": [
    {
     "data": {
      "image/png": "[encoded data removed]",
      "text/plain": [
       "<Figure size 640x480 with 1 Axes>"
      ]
     },
     "metadata": {},
     "output_type": "display_data"
    }
   ],
   "source": [
    "sgd = SimpleGradientDescent(learning_rate=0.01, iterations=1000)\n",
    "sgd.fit(X, y)\n",
    "\n",
    "momentum = MomentumGradientDescent(learning_rate=0.01, iterations=1000, gamma=0.9)\n",
    "momentum.fit(X, y)\n",
    "\n",
    "nag = NesterovGradientDescent(learning_rate=0.01, iterations=1000, gamma=0.9)\n",
    "nag.fit(X, y)\n",
    "\n",
    "# Compare losses\n",
    "plt.plot(sgd.loss_history, label='Simple GD')\n",
    "plt.plot(momentum.loss_history, label='Momentum')\n",
    "plt.plot(nag.loss_history, label='NAG')\n",
    "plt.xlabel('Iterations')\n",
    "plt.ylabel('MSE Loss')\n",
    "plt.legend()\n",
    "plt.title('Convergence Comparison')\n",
    "plt.show()\n"
   ]
  }
 ],
 "metadata": {
  "kernelspec": {
   "display_name": "base",
   "language": "python",
   "name": "python3"
  },
  "language_info": {
   "codemirror_mode": {
    "name": "ipython",
    "version": 3
   },
   "file_extension": ".py",
   "mimetype": "text/x-python",
   "name": "python",
   "nbconvert_exporter": "python",
   "pygments_lexer": "ipython3",
   "version": "3.13.5"
  }
 },
 "nbformat": 4,
 "nbformat_minor": 5
}
