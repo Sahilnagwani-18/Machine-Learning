{
 "cells": [
  {
   "cell_type": "code",
   "execution_count": 37,
   "id": "750ee577",
   "metadata": {},
   "outputs": [],
   "source": [
    "import pandas as pd\n",
    "import numpy as np"
   ]
  },
  {
   "cell_type": "code",
   "execution_count": 38,
   "id": "cbdf5e7e",
   "metadata": {},
   "outputs": [],
   "source": [
    "df=pd.read_csv('advertising.csv')"
   ]
  },
  {
   "cell_type": "code",
   "execution_count": 39,
   "id": "70d52075",
   "metadata": {},
   "outputs": [
    {
     "data": {
      "text/html": [
       "<div>\n",
       "<style scoped>\n",
       "    .dataframe tbody tr th:only-of-type {\n",
       "        vertical-align: middle;\n",
       "    }\n",
       "\n",
       "    .dataframe tbody tr th {\n",
       "        vertical-align: top;\n",
       "    }\n",
       "\n",
       "    .dataframe thead th {\n",
       "        text-align: right;\n",
       "    }\n",
       "</style>\n",
       "<table border=\"1\" class=\"dataframe\">\n",
       "  <thead>\n",
       "    <tr style=\"text-align: right;\">\n",
       "      <th></th>\n",
       "      <th>TV</th>\n",
       "      <th>Radio</th>\n",
       "      <th>Newspaper</th>\n",
       "      <th>Sales</th>\n",
       "    </tr>\n",
       "  </thead>\n",
       "  <tbody>\n",
       "    <tr>\n",
       "      <th>0</th>\n",
       "      <td>230.1</td>\n",
       "      <td>37.8</td>\n",
       "      <td>69.2</td>\n",
       "      <td>22.1</td>\n",
       "    </tr>\n",
       "    <tr>\n",
       "      <th>1</th>\n",
       "      <td>44.5</td>\n",
       "      <td>39.3</td>\n",
       "      <td>45.1</td>\n",
       "      <td>10.4</td>\n",
       "    </tr>\n",
       "    <tr>\n",
       "      <th>2</th>\n",
       "      <td>17.2</td>\n",
       "      <td>45.9</td>\n",
       "      <td>69.3</td>\n",
       "      <td>12.0</td>\n",
       "    </tr>\n",
       "    <tr>\n",
       "      <th>3</th>\n",
       "      <td>151.5</td>\n",
       "      <td>41.3</td>\n",
       "      <td>58.5</td>\n",
       "      <td>16.5</td>\n",
       "    </tr>\n",
       "    <tr>\n",
       "      <th>4</th>\n",
       "      <td>180.8</td>\n",
       "      <td>10.8</td>\n",
       "      <td>58.4</td>\n",
       "      <td>17.9</td>\n",
       "    </tr>\n",
       "  </tbody>\n",
       "</table>\n",
       "</div>"
      ],
      "text/plain": [
       "      TV  Radio  Newspaper  Sales\n",
       "0  230.1   37.8       69.2   22.1\n",
       "1   44.5   39.3       45.1   10.4\n",
       "2   17.2   45.9       69.3   12.0\n",
       "3  151.5   41.3       58.5   16.5\n",
       "4  180.8   10.8       58.4   17.9"
      ]
     },
     "execution_count": 39,
     "metadata": {},
     "output_type": "execute_result"
    }
   ],
   "source": [
    "df.head()"
   ]
  },
  {
   "cell_type": "code",
   "execution_count": 40,
   "id": "616f56a4",
   "metadata": {},
   "outputs": [
    {
     "name": "stdout",
     "output_type": "stream",
     "text": [
      "<class 'pandas.core.frame.DataFrame'>\n",
      "RangeIndex: 200 entries, 0 to 199\n",
      "Data columns (total 4 columns):\n",
      " #   Column     Non-Null Count  Dtype  \n",
      "---  ------     --------------  -----  \n",
      " 0   TV         200 non-null    float64\n",
      " 1   Radio      200 non-null    float64\n",
      " 2   Newspaper  200 non-null    float64\n",
      " 3   Sales      200 non-null    float64\n",
      "dtypes: float64(4)\n",
      "memory usage: 6.4 KB\n"
     ]
    }
   ],
   "source": [
    "df.describe()\n",
    "df.info()"
   ]
  },
  {
   "cell_type": "code",
   "execution_count": 41,
   "id": "2f413fb6",
   "metadata": {},
   "outputs": [],
   "source": [
    "num_cols = df.select_dtypes(include=['int64', 'float64']).columns.tolist()\n",
    "\n",
    "cat_cols = df.select_dtypes(include=['object']).columns.tolist()"
   ]
  },
  {
   "cell_type": "code",
   "execution_count": 42,
   "id": "d2e02639",
   "metadata": {},
   "outputs": [
    {
     "name": "stdout",
     "output_type": "stream",
     "text": [
      "Numerical Columns: ['TV', 'Radio', 'Newspaper', 'Sales']\n",
      "Categorical Columns: []\n"
     ]
    }
   ],
   "source": [
    "print(\"Numerical Columns:\", num_cols)\n",
    "print(\"Categorical Columns:\", cat_cols)"
   ]
  },
  {
   "cell_type": "code",
   "execution_count": 43,
   "id": "a0a3907b",
   "metadata": {},
   "outputs": [],
   "source": [
    "for col in cat_cols:\n",
    "    print(f\"{col} --> {df[col].unique()}\")"
   ]
  },
  {
   "cell_type": "code",
   "execution_count": 44,
   "id": "8886963b",
   "metadata": {},
   "outputs": [],
   "source": [
    "from sklearn.preprocessing import StandardScaler\n",
    "X = df.drop('Sales', axis=1)\n",
    "X = X.fillna(X.mean())\n",
    "scaler = StandardScaler()\n",
    "X_scaled = scaler.fit_transform(X) \n",
    "X_original = X_scaled\n",
    "y = df['Sales']"
   ]
  },
  {
   "cell_type": "code",
   "execution_count": 45,
   "id": "979d1443",
   "metadata": {},
   "outputs": [],
   "source": [
    "mu = X_scaled.mean(axis=0)  \n",
    "A = X_scaled - mu   "
   ]
  },
  {
   "cell_type": "code",
   "execution_count": null,
   "id": "93a4c202",
   "metadata": {},
   "outputs": [],
   "source": [
    "def power_iteration_sym(M, max_iter=1000, tol=1e-9):\n",
    "    d = M.shape[0]\n",
    "    \n",
    "    v = np.random.randn(d)\n",
    "    v /= np.linalg.norm(v) + 1e-15\n",
    "\n",
    "    last_val = 0.0\n",
    "    for _ in range(max_iter):\n",
    "        w = M @ v\n",
    "        norm_w = np.linalg.norm(w)\n",
    "        if norm_w < 1e-15:\n",
    "            return 0.0, v\n",
    "        v = w / norm_w\n",
    "        \n",
    "        val = float(v.T @ (M @ v))\n",
    "        if abs(val - last_val) < tol * max(1.0, abs(last_val)):\n",
    "            break\n",
    "        last_val = val\n",
    "    return val, v"
   ]
  },
  {
   "cell_type": "code",
   "execution_count": null,
   "id": "29d2884e",
   "metadata": {},
   "outputs": [],
   "source": [
    "def top_k_eig_power_deflation(M, k, max_iter=1000, tol=1e-9):\n",
    "    d = M.shape[0]\n",
    "    V = np.zeros((d, k))\n",
    "    vals = np.zeros(k)\n",
    "\n",
    "    \n",
    "    M_work = M.copy()\n",
    "\n",
    "    for j in range(k):\n",
    "        val, vec = power_iteration_sym(M_work, max_iter=max_iter, tol=tol)\n",
    "\n",
    "        \n",
    "        if j > 0:\n",
    "            \n",
    "            proj = V[:, :j] @ (V[:, :j].T @ vec)\n",
    "            vec = vec - proj\n",
    "            nrm = np.linalg.norm(vec)\n",
    "            if nrm > 1e-15:\n",
    "                vec = vec / nrm\n",
    "            else:\n",
    "                vals = vals[:j]\n",
    "                V = V[:, :j]\n",
    "                break\n",
    "\n",
    "           \n",
    "            val = float(vec.T @ (M @ vec))\n",
    "\n",
    "        vals[j] = val\n",
    "        V[:, j] = vec\n",
    "\n",
    "       \n",
    "        M_work = M_work - val * np.outer(vec, vec)\n",
    "\n",
    "    \n",
    "    order = np.argsort(-vals)\n",
    "    return vals[order], V[:, order]"
   ]
  },
  {
   "cell_type": "code",
   "execution_count": 48,
   "id": "628f9b98",
   "metadata": {},
   "outputs": [],
   "source": [
    "candidate_ns = [1, 2, 3,4, 5,6, 7,8,9, 10,11,12, 15]\n",
    "candidate_ns = [n for n in candidate_ns if n <= A.shape[1]]"
   ]
  },
  {
   "cell_type": "code",
   "execution_count": 49,
   "id": "ce281d50",
   "metadata": {},
   "outputs": [
    {
     "data": {
      "text/plain": [
       "[1, 2, 3]"
      ]
     },
     "execution_count": 49,
     "metadata": {},
     "output_type": "execute_result"
    }
   ],
   "source": [
    "candidate_ns"
   ]
  },
  {
   "cell_type": "code",
   "execution_count": null,
   "id": "d5f6d0bb",
   "metadata": {},
   "outputs": [
    {
     "name": "stdout",
     "output_type": "stream",
     "text": [
      "n= 1 | Reconstruction Error = 325.829498\n",
      "n= 2 | Reconstruction Error = 129.178270\n",
      "n= 3 | Reconstruction Error = 0.000000\n"
     ]
    }
   ],
   "source": [
    "errors = []\n",
    " \n",
    "C= (A.T @ A) / A.shape[0]  # Covariance matrix\n",
    "for n in candidate_ns:\n",
    "    evals_n, evecs_n = top_k_eig_power_deflation(C, k=n, max_iter=2000, tol=1e-10)\n",
    "    \n",
    "   \n",
    "    Z = A @ evecs_n               \n",
    "    X_rec = Z @ evecs_n.T + mu    \n",
    "    \n",
    "    \n",
    "    err = float(np.sum((X_original  - X_rec) ** 2))\n",
    "    errors.append(err)\n",
    "    print(f\"n={n:>2} | Reconstruction Error = {err:.6f}\")\n"
   ]
  },
  {
   "cell_type": "code",
   "execution_count": 51,
   "id": "ba6822ec",
   "metadata": {},
   "outputs": [],
   "source": [
    "evals_std, evecs_std = np.linalg.eigh(C)\n",
    "idx = np.argsort(evals_std)[::-1]\n",
    "evals_std = evals_std[idx]\n",
    "evecs_std = evecs_std[:, idx]"
   ]
  },
  {
   "cell_type": "code",
   "execution_count": 52,
   "id": "26496316",
   "metadata": {},
   "outputs": [],
   "source": [
    "errors_std = []\n",
    "for n in candidate_ns:\n",
    "    Z_std = A @ evecs_std[:, :n]\n",
    "    X_rec_std = Z_std @ evecs_std[:, :n].T + mu\n",
    "    err_std = float(np.sum((X_original - X_rec_std) ** 2))\n",
    "    errors_std.append(err_std)\n"
   ]
  },
  {
   "cell_type": "code",
   "execution_count": null,
   "id": "e645e0b0",
   "metadata": {},
   "outputs": [
    {
     "data": {
      "image/png": "[encoded data removed]",
      "text/plain": [
       "<Figure size 800x500 with 1 Axes>"
      ]
     },
     "metadata": {},
     "output_type": "display_data"
    }
   ],
   "source": [
    "import matplotlib.pyplot as plt\n",
    "plt.figure(figsize=(8, 5))\n",
    "plt.plot(candidate_ns, errors_std, 'o-', color='orange', label='NumPy')\n",
    "plt.plot(candidate_ns, errors, 's--', color='blue', label='Manual')  \n",
    "plt.xlabel('Number of Eigenvectors (n)')\n",
    "plt.ylabel('Reconstruction Error (SSE)')\n",
    "plt.title('Reconstruction Error vs Number of Eigenvectors')\n",
    "plt.legend()\n",
    "plt.grid(True)\n",
    "plt.show()\n"
   ]
  }
 ],
 "metadata": {
  "kernelspec": {
   "display_name": "base",
   "language": "python",
   "name": "python3"
  },
  "language_info": {
   "codemirror_mode": {
    "name": "ipython",
    "version": 3
   },
   "file_extension": ".py",
   "mimetype": "text/x-python",
   "name": "python",
   "nbconvert_exporter": "python",
   "pygments_lexer": "ipython3",
   "version": "3.13.5"
  }
 },
 "nbformat": 4,
 "nbformat_minor": 5
}
