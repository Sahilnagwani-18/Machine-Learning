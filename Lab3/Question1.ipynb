{
 "cells": [
  {
   "cell_type": "code",
   "execution_count": 239,
   "id": "79c74b75",
   "metadata": {},
   "outputs": [],
   "source": [
    "import pandas as pd\n",
    "import numpy as np"
   ]
  },
  {
   "cell_type": "code",
   "execution_count": 240,
   "id": "2efdb321",
   "metadata": {},
   "outputs": [],
   "source": [
    "df=pd.read_csv('Housing.csv')"
   ]
  },
  {
   "cell_type": "code",
   "execution_count": 241,
   "id": "1e145e71",
   "metadata": {},
   "outputs": [
    {
     "data": {
      "text/html": [
       "<div>\n",
       "<style scoped>\n",
       "    .dataframe tbody tr th:only-of-type {\n",
       "        vertical-align: middle;\n",
       "    }\n",
       "\n",
       "    .dataframe tbody tr th {\n",
       "        vertical-align: top;\n",
       "    }\n",
       "\n",
       "    .dataframe thead th {\n",
       "        text-align: right;\n",
       "    }\n",
       "</style>\n",
       "<table border=\"1\" class=\"dataframe\">\n",
       "  <thead>\n",
       "    <tr style=\"text-align: right;\">\n",
       "      <th></th>\n",
       "      <th>price</th>\n",
       "      <th>area</th>\n",
       "      <th>bedrooms</th>\n",
       "      <th>bathrooms</th>\n",
       "      <th>stories</th>\n",
       "      <th>mainroad</th>\n",
       "      <th>guestroom</th>\n",
       "      <th>basement</th>\n",
       "      <th>hotwaterheating</th>\n",
       "      <th>airconditioning</th>\n",
       "      <th>parking</th>\n",
       "      <th>prefarea</th>\n",
       "      <th>furnishingstatus</th>\n",
       "    </tr>\n",
       "  </thead>\n",
       "  <tbody>\n",
       "    <tr>\n",
       "      <th>0</th>\n",
       "      <td>13300000</td>\n",
       "      <td>7420</td>\n",
       "      <td>4</td>\n",
       "      <td>2</td>\n",
       "      <td>3</td>\n",
       "      <td>yes</td>\n",
       "      <td>no</td>\n",
       "      <td>no</td>\n",
       "      <td>no</td>\n",
       "      <td>yes</td>\n",
       "      <td>2</td>\n",
       "      <td>yes</td>\n",
       "      <td>furnished</td>\n",
       "    </tr>\n",
       "    <tr>\n",
       "      <th>1</th>\n",
       "      <td>12250000</td>\n",
       "      <td>8960</td>\n",
       "      <td>4</td>\n",
       "      <td>4</td>\n",
       "      <td>4</td>\n",
       "      <td>yes</td>\n",
       "      <td>no</td>\n",
       "      <td>no</td>\n",
       "      <td>no</td>\n",
       "      <td>yes</td>\n",
       "      <td>3</td>\n",
       "      <td>no</td>\n",
       "      <td>furnished</td>\n",
       "    </tr>\n",
       "    <tr>\n",
       "      <th>2</th>\n",
       "      <td>12250000</td>\n",
       "      <td>9960</td>\n",
       "      <td>3</td>\n",
       "      <td>2</td>\n",
       "      <td>2</td>\n",
       "      <td>yes</td>\n",
       "      <td>no</td>\n",
       "      <td>yes</td>\n",
       "      <td>no</td>\n",
       "      <td>no</td>\n",
       "      <td>2</td>\n",
       "      <td>yes</td>\n",
       "      <td>semi-furnished</td>\n",
       "    </tr>\n",
       "    <tr>\n",
       "      <th>3</th>\n",
       "      <td>12215000</td>\n",
       "      <td>7500</td>\n",
       "      <td>4</td>\n",
       "      <td>2</td>\n",
       "      <td>2</td>\n",
       "      <td>yes</td>\n",
       "      <td>no</td>\n",
       "      <td>yes</td>\n",
       "      <td>no</td>\n",
       "      <td>yes</td>\n",
       "      <td>3</td>\n",
       "      <td>yes</td>\n",
       "      <td>furnished</td>\n",
       "    </tr>\n",
       "    <tr>\n",
       "      <th>4</th>\n",
       "      <td>11410000</td>\n",
       "      <td>7420</td>\n",
       "      <td>4</td>\n",
       "      <td>1</td>\n",
       "      <td>2</td>\n",
       "      <td>yes</td>\n",
       "      <td>yes</td>\n",
       "      <td>yes</td>\n",
       "      <td>no</td>\n",
       "      <td>yes</td>\n",
       "      <td>2</td>\n",
       "      <td>no</td>\n",
       "      <td>furnished</td>\n",
       "    </tr>\n",
       "  </tbody>\n",
       "</table>\n",
       "</div>"
      ],
      "text/plain": [
       "      price  area  bedrooms  bathrooms  stories mainroad guestroom basement  \\\n",
       "0  13300000  7420         4          2        3      yes        no       no   \n",
       "1  12250000  8960         4          4        4      yes        no       no   \n",
       "2  12250000  9960         3          2        2      yes        no      yes   \n",
       "3  12215000  7500         4          2        2      yes        no      yes   \n",
       "4  11410000  7420         4          1        2      yes       yes      yes   \n",
       "\n",
       "  hotwaterheating airconditioning  parking prefarea furnishingstatus  \n",
       "0              no             yes        2      yes        furnished  \n",
       "1              no             yes        3       no        furnished  \n",
       "2              no              no        2      yes   semi-furnished  \n",
       "3              no             yes        3      yes        furnished  \n",
       "4              no             yes        2       no        furnished  "
      ]
     },
     "execution_count": 241,
     "metadata": {},
     "output_type": "execute_result"
    }
   ],
   "source": [
    "df.head()\n"
   ]
  },
  {
   "cell_type": "code",
   "execution_count": 242,
   "id": "be62b86f",
   "metadata": {},
   "outputs": [
    {
     "name": "stdout",
     "output_type": "stream",
     "text": [
      "<class 'pandas.core.frame.DataFrame'>\n",
      "RangeIndex: 545 entries, 0 to 544\n",
      "Data columns (total 13 columns):\n",
      " #   Column            Non-Null Count  Dtype \n",
      "---  ------            --------------  ----- \n",
      " 0   price             545 non-null    int64 \n",
      " 1   area              545 non-null    int64 \n",
      " 2   bedrooms          545 non-null    int64 \n",
      " 3   bathrooms         545 non-null    int64 \n",
      " 4   stories           545 non-null    int64 \n",
      " 5   mainroad          545 non-null    object\n",
      " 6   guestroom         545 non-null    object\n",
      " 7   basement          545 non-null    object\n",
      " 8   hotwaterheating   545 non-null    object\n",
      " 9   airconditioning   545 non-null    object\n",
      " 10  parking           545 non-null    int64 \n",
      " 11  prefarea          545 non-null    object\n",
      " 12  furnishingstatus  545 non-null    object\n",
      "dtypes: int64(6), object(7)\n",
      "memory usage: 55.5+ KB\n"
     ]
    }
   ],
   "source": [
    "df.describe()\n",
    "df.info()"
   ]
  },
  {
   "cell_type": "code",
   "execution_count": 243,
   "id": "8bf85b1d",
   "metadata": {},
   "outputs": [],
   "source": [
    "num_cols = df.select_dtypes(include=['int64', 'float64']).columns.tolist()\n",
    "\n",
    "cat_cols = df.select_dtypes(include=['object']).columns.tolist()"
   ]
  },
  {
   "cell_type": "code",
   "execution_count": 244,
   "id": "7cf846d0",
   "metadata": {},
   "outputs": [
    {
     "name": "stdout",
     "output_type": "stream",
     "text": [
      "Numerical Columns: ['price', 'area', 'bedrooms', 'bathrooms', 'stories', 'parking']\n",
      "Categorical Columns: ['mainroad', 'guestroom', 'basement', 'hotwaterheating', 'airconditioning', 'prefarea', 'furnishingstatus']\n"
     ]
    }
   ],
   "source": [
    "print(\"Numerical Columns:\", num_cols)\n",
    "print(\"Categorical Columns:\", cat_cols)"
   ]
  },
  {
   "cell_type": "code",
   "execution_count": 245,
   "id": "09fb02af",
   "metadata": {},
   "outputs": [
    {
     "name": "stdout",
     "output_type": "stream",
     "text": [
      "mainroad --> ['yes' 'no']\n",
      "guestroom --> ['no' 'yes']\n",
      "basement --> ['no' 'yes']\n",
      "hotwaterheating --> ['no' 'yes']\n",
      "airconditioning --> ['yes' 'no']\n",
      "prefarea --> ['yes' 'no']\n",
      "furnishingstatus --> ['furnished' 'semi-furnished' 'unfurnished']\n"
     ]
    }
   ],
   "source": [
    "for col in cat_cols:\n",
    "    print(f\"{col} --> {df[col].unique()}\")"
   ]
  },
  {
   "cell_type": "markdown",
   "id": "97b691ff",
   "metadata": {},
   "source": [
    "Now There are To many Categorical Cols and one col have three Different values and others have two so i decided to do Binary encoding "
   ]
  },
  {
   "cell_type": "code",
   "execution_count": 246,
   "id": "66d1f775",
   "metadata": {},
   "outputs": [],
   "source": [
    "furnishing_map = {\n",
    "    'unfurnished': 0,\n",
    "    'semi-furnished': 1,\n",
    "    'furnished': 2\n",
    "}\n",
    "\n",
    "df['furnishingstatus'] = df['furnishingstatus'].map(furnishing_map)"
   ]
  },
  {
   "cell_type": "code",
   "execution_count": 247,
   "id": "37550be5",
   "metadata": {},
   "outputs": [
    {
     "name": "stdout",
     "output_type": "stream",
     "text": [
      "Categorical Columns after mapping: ['mainroad', 'guestroom', 'basement', 'hotwaterheating', 'airconditioning', 'prefarea']\n"
     ]
    }
   ],
   "source": [
    "other_cat_map = {\n",
    "    'yes': 1,\n",
    "    'no': 0\n",
    "}\n",
    "\n",
    "cat_cols = df.select_dtypes(include=['object']).columns.tolist()\n",
    "print(\"Categorical Columns after mapping:\", cat_cols)"
   ]
  },
  {
   "cell_type": "code",
   "execution_count": 248,
   "id": "44253098",
   "metadata": {},
   "outputs": [],
   "source": [
    "for col in cat_cols:\n",
    "    df[col] = df[col].map(other_cat_map)"
   ]
  },
  {
   "cell_type": "code",
   "execution_count": 249,
   "id": "83104891",
   "metadata": {},
   "outputs": [
    {
     "name": "stdout",
     "output_type": "stream",
     "text": [
      "Categorical Columns after mapping: []\n"
     ]
    }
   ],
   "source": [
    "cat_cols = df.select_dtypes(include=['object']).columns.tolist()\n",
    "print(\"Categorical Columns after mapping:\", cat_cols)"
   ]
  },
  {
   "cell_type": "code",
   "execution_count": 250,
   "id": "1c1a847c",
   "metadata": {},
   "outputs": [],
   "source": [
    "from sklearn.preprocessing import StandardScaler\n",
    "X = df.drop('price', axis=1)\n",
    "X = X.fillna(X.mean())\n",
    "scaler = StandardScaler()\n",
    "X_scaled = scaler.fit_transform(X) \n",
    "X_original = X_scaled\n",
    "y = df['price']"
   ]
  },
  {
   "cell_type": "code",
   "execution_count": null,
   "id": "bcb5177e",
   "metadata": {},
   "outputs": [],
   "source": []
  },
  {
   "cell_type": "code",
   "execution_count": 251,
   "id": "a4fc3216",
   "metadata": {},
   "outputs": [],
   "source": [
    "mu = X_scaled.mean(axis=0)  \n",
    "A = X_scaled - mu "
   ]
  },
  {
   "cell_type": "code",
   "execution_count": 252,
   "id": "b459aa98",
   "metadata": {},
   "outputs": [],
   "source": [
    "def power_iteration_sym(M, max_iter=1000, tol=1e-9):\n",
    "    d = M.shape[0]\n",
    "    \n",
    "    v = np.random.randn(d)\n",
    "    v /= np.linalg.norm(v) + 1e-15\n",
    "\n",
    "    last_val = 0.0\n",
    "    for _ in range(max_iter):\n",
    "        w = M @ v\n",
    "        norm_w = np.linalg.norm(w)\n",
    "        if norm_w < 1e-15:\n",
    "            # M is singular in this direction\n",
    "            return 0.0, v\n",
    "        v = w / norm_w\n",
    "        # Rayleigh quotient gives eigenvalue estimate\n",
    "        val = float(v.T @ (M @ v))\n",
    "        if abs(val - last_val) < tol * max(1.0, abs(last_val)):\n",
    "            break\n",
    "        last_val = val\n",
    "    return val, v"
   ]
  },
  {
   "cell_type": "code",
   "execution_count": 253,
   "id": "fb37f454",
   "metadata": {},
   "outputs": [],
   "source": [
    "def top_k_eig_power_deflation(M, k, max_iter=1000, tol=1e-9):\n",
    "    d = M.shape[0]\n",
    "    V = np.zeros((d, k))\n",
    "    vals = np.zeros(k)\n",
    "\n",
    "    # We maintain a working copy for deflation\n",
    "    M_work = M.copy()\n",
    "\n",
    "    for j in range(k):\n",
    "        val, vec = power_iteration_sym(M_work, max_iter=max_iter, tol=tol)\n",
    "\n",
    "        # Re-orthogonalize vec against previously found vectors (stabilizes numerics)\n",
    "        if j > 0:\n",
    "            # Gram-Schmidt\n",
    "            proj = V[:, :j] @ (V[:, :j].T @ vec)\n",
    "            vec = vec - proj\n",
    "            nrm = np.linalg.norm(vec)\n",
    "            if nrm > 1e-15:\n",
    "                vec = vec / nrm\n",
    "            else:\n",
    "                # If it collapses numerically, just return what we have\n",
    "                vals = vals[:j]\n",
    "                V = V[:, :j]\n",
    "                break\n",
    "\n",
    "            # Recompute eigenvalue after orthogonalization\n",
    "            val = float(vec.T @ (M @ vec))\n",
    "\n",
    "        vals[j] = val\n",
    "        V[:, j] = vec\n",
    "\n",
    "        # Rank-1 deflation: remove this eigen-direction\n",
    "        # Safe because M is symmetric: M <- M - lambda * v v^T\n",
    "        M_work = M_work - val * np.outer(vec, vec)\n",
    "\n",
    "    # Ensure descending order (power+deflation should already produce descending, but just in case)\n",
    "    order = np.argsort(-vals)\n",
    "    return vals[order], V[:, order]"
   ]
  },
  {
   "cell_type": "code",
   "execution_count": 254,
   "id": "fdec455c",
   "metadata": {},
   "outputs": [],
   "source": [
    "candidate_ns = [1, 2, 3,4, 5,6, 7,8,9, 10,11,12, 15]\n",
    "candidate_ns = [n for n in candidate_ns if n <= A.shape[1]]"
   ]
  },
  {
   "cell_type": "code",
   "execution_count": 255,
   "id": "4f343e9e",
   "metadata": {},
   "outputs": [
    {
     "data": {
      "text/plain": [
       "[1, 2, 3, 4, 5, 6, 7, 8, 9, 10, 11, 12]"
      ]
     },
     "execution_count": 255,
     "metadata": {},
     "output_type": "execute_result"
    }
   ],
   "source": [
    "candidate_ns"
   ]
  },
  {
   "cell_type": "code",
   "execution_count": 256,
   "id": "795b6176",
   "metadata": {},
   "outputs": [
    {
     "name": "stdout",
     "output_type": "stream",
     "text": [
      "n= 1 | Reconstruction Error = 5191.271189\n",
      "n= 2 | Reconstruction Error = 4355.143964\n",
      "n= 3 | Reconstruction Error = 3658.587684\n",
      "n= 4 | Reconstruction Error = 3041.541635\n",
      "n= 5 | Reconstruction Error = 2553.951429\n",
      "n= 6 | Reconstruction Error = 2075.587998\n",
      "n= 7 | Reconstruction Error = 1634.967553\n",
      "n= 8 | Reconstruction Error = 1232.110720\n"
     ]
    },
    {
     "name": "stdout",
     "output_type": "stream",
     "text": [
      "n= 9 | Reconstruction Error = 880.349331\n",
      "n=10 | Reconstruction Error = 538.673259\n",
      "n=11 | Reconstruction Error = 226.225251\n",
      "n=12 | Reconstruction Error = 0.000000\n"
     ]
    }
   ],
   "source": [
    "errors = []\n",
    " # Centered data\n",
    "C= (A.T @ A) / A.shape[0]  # Covariance matrix\n",
    "for n in candidate_ns:\n",
    "    evals_n, evecs_n = top_k_eig_power_deflation(C, k=n, max_iter=2000, tol=1e-10)\n",
    "    \n",
    "    # Project and reconstruct\n",
    "    Z = A @ evecs_n               # (n_samples, n)\n",
    "    X_rec = Z @ evecs_n.T + mu    # (n_samples, d)\n",
    "    \n",
    "    # Compute SSE\n",
    "    err = float(np.sum((X_original  - X_rec) ** 2))\n",
    "    errors.append(err)\n",
    "    print(f\"n={n:>2} | Reconstruction Error = {err:.6f}\")\n"
   ]
  },
  {
   "cell_type": "code",
   "execution_count": 257,
   "id": "55348e02",
   "metadata": {},
   "outputs": [],
   "source": [
    "evals_std, evecs_std = np.linalg.eigh(C)\n",
    "idx = np.argsort(evals_std)[::-1]\n",
    "evals_std = evals_std[idx]\n",
    "evecs_std = evecs_std[:, idx]"
   ]
  },
  {
   "cell_type": "code",
   "execution_count": 258,
   "id": "65077ced",
   "metadata": {},
   "outputs": [],
   "source": [
    "errors_std = []\n",
    "for n in candidate_ns:\n",
    "    Z_std = A @ evecs_std[:, :n]\n",
    "    X_rec_std = Z_std @ evecs_std[:, :n].T + mu\n",
    "    err_std = float(np.sum((X_original - X_rec_std) ** 2))\n",
    "    errors_std.append(err_std)\n"
   ]
  },
  {
   "cell_type": "code",
   "execution_count": 259,
   "id": "a8745822",
   "metadata": {},
   "outputs": [
    {
     "data": {
      "image/png": "[encoded data removed]",
      "text/plain": [
       "<Figure size 800x500 with 1 Axes>"
      ]
     },
     "metadata": {},
     "output_type": "display_data"
    }
   ],
   "source": [
    "import matplotlib.pyplot as plt\n",
    "plt.figure(figsize=(8, 5))\n",
    "plt.plot(candidate_ns, errors_std, 'o-', color='orange', label='NumPy')\n",
    "plt.plot(candidate_ns, errors, 's--', color='blue', label='Manual')  # Add manual implementation\n",
    "plt.xlabel('Number of Eigenvectors (n)')\n",
    "plt.ylabel('Reconstruction Error (SSE)')\n",
    "plt.title('Reconstruction Error vs Number of Eigenvectors')\n",
    "plt.legend()\n",
    "plt.grid(True)\n",
    "plt.show()\n"
   ]
  }
 ],
 "metadata": {
  "kernelspec": {
   "display_name": "base",
   "language": "python",
   "name": "python3"
  },
  "language_info": {
   "codemirror_mode": {
    "name": "ipython",
    "version": 3
   },
   "file_extension": ".py",
   "mimetype": "text/x-python",
   "name": "python",
   "nbconvert_exporter": "python",
   "pygments_lexer": "ipython3",
   "version": "3.13.5"
  }
 },
 "nbformat": 4,
 "nbformat_minor": 5
}
