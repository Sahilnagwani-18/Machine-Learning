{
 "cells": [
  {
   "cell_type": "code",
   "execution_count": 44,
   "id": "048b9774",
   "metadata": {},
   "outputs": [],
   "source": [
    "import pandas as pd\n",
    "import numpy as np"
   ]
  },
  {
   "cell_type": "code",
   "execution_count": 45,
   "id": "1f333619",
   "metadata": {},
   "outputs": [
    {
     "data": {
      "text/plain": [
       "(83, 42)"
      ]
     },
     "execution_count": 45,
     "metadata": {},
     "output_type": "execute_result"
    }
   ],
   "source": [
    "df=pd.read_csv('faa_ai_prelim.csv')\n",
    "df.shape"
   ]
  },
  {
   "cell_type": "code",
   "execution_count": 46,
   "id": "54696d19",
   "metadata": {},
   "outputs": [
    {
     "name": "stdout",
     "output_type": "stream",
     "text": [
      "<class 'pandas.core.frame.DataFrame'>\n",
      "RangeIndex: 83 entries, 0 to 82\n",
      "Data columns (total 42 columns):\n",
      " #   Column               Non-Null Count  Dtype  \n",
      "---  ------               --------------  -----  \n",
      " 0   UPDATED              83 non-null     object \n",
      " 1   ENTRY_DATE           83 non-null     object \n",
      " 2   EVENT_LCL_DATE       83 non-null     object \n",
      " 3   EVENT_LCL_TIME       83 non-null     object \n",
      " 4   LOC_CITY_NAME        83 non-null     object \n",
      " 5   LOC_STATE_NAME       83 non-null     object \n",
      " 6   LOC_CNTRY_NAME       2 non-null      object \n",
      " 7   RMK_TEXT             83 non-null     object \n",
      " 8   EVENT_TYPE_DESC      83 non-null     object \n",
      " 9   FSDO_DESC            81 non-null     object \n",
      " 10  REGIST_NBR           83 non-null     object \n",
      " 11  FLT_NBR              6 non-null      object \n",
      " 12  ACFT_OPRTR           7 non-null      object \n",
      " 13  ACFT_MAKE_NAME       78 non-null     object \n",
      " 14  ACFT_MODEL_NAME      79 non-null     object \n",
      " 15  ACFT_MISSING_FLAG    0 non-null      float64\n",
      " 16  ACFT_DMG_DESC        74 non-null     object \n",
      " 17  FLT_ACTIVITY         13 non-null     object \n",
      " 18  FLT_PHASE            82 non-null     object \n",
      " 19  FAR_PART             1 non-null      float64\n",
      " 20  MAX_INJ_LVL          19 non-null     object \n",
      " 21  FATAL_FLAG           8 non-null      object \n",
      " 22  FLT_CRW_INJ_NONE     64 non-null     float64\n",
      " 23  FLT_CRW_INJ_MINOR    6 non-null      float64\n",
      " 24  FLT_CRW_INJ_SERIOUS  1 non-null      float64\n",
      " 25  FLT_CRW_INJ_FATAL    8 non-null      float64\n",
      " 26  FLT_CRW_INJ_UNK      0 non-null      float64\n",
      " 27  CBN_CRW_INJ_NONE     0 non-null      float64\n",
      " 28  CBN_CRW_INJ_MINOR    0 non-null      float64\n",
      " 29  CBN_CRW_INJ_SERIOUS  0 non-null      float64\n",
      " 30  CBN_CRW_INJ_FATAL    0 non-null      float64\n",
      " 31  CBN_CRW_INJ_UNK      1 non-null      float64\n",
      " 32  PAX_INJ_NONE         17 non-null     float64\n",
      " 33  PAX_INJ_MINOR        1 non-null      float64\n",
      " 34  PAX_INJ_SERIOUS      3 non-null      float64\n",
      " 35  PAX_INJ_FATAL        1 non-null      float64\n",
      " 36  PAX_INJ_UNK          0 non-null      float64\n",
      " 37  GRND_INJ_NONE        0 non-null      float64\n",
      " 38  GRND_INJ_MINOR       0 non-null      float64\n",
      " 39  GRND_INJ_SERIOUS     0 non-null      float64\n",
      " 40  GRND_INJ_FATAL       0 non-null      float64\n",
      " 41  GRND_INJ_UNK         1 non-null      float64\n",
      "dtypes: float64(22), object(20)\n",
      "memory usage: 27.4+ KB\n"
     ]
    },
    {
     "data": {
      "text/plain": [
       "UPDATED                 0\n",
       "ENTRY_DATE              0\n",
       "EVENT_LCL_DATE          0\n",
       "EVENT_LCL_TIME          0\n",
       "LOC_CITY_NAME           0\n",
       "LOC_STATE_NAME          0\n",
       "LOC_CNTRY_NAME         81\n",
       "RMK_TEXT                0\n",
       "EVENT_TYPE_DESC         0\n",
       "FSDO_DESC               2\n",
       "REGIST_NBR              0\n",
       "FLT_NBR                77\n",
       "ACFT_OPRTR             76\n",
       "ACFT_MAKE_NAME          5\n",
       "ACFT_MODEL_NAME         4\n",
       "ACFT_MISSING_FLAG      83\n",
       "ACFT_DMG_DESC           9\n",
       "FLT_ACTIVITY           70\n",
       "FLT_PHASE               1\n",
       "FAR_PART               82\n",
       "MAX_INJ_LVL            64\n",
       "FATAL_FLAG             75\n",
       "FLT_CRW_INJ_NONE       19\n",
       "FLT_CRW_INJ_MINOR      77\n",
       "FLT_CRW_INJ_SERIOUS    82\n",
       "FLT_CRW_INJ_FATAL      75\n",
       "FLT_CRW_INJ_UNK        83\n",
       "CBN_CRW_INJ_NONE       83\n",
       "CBN_CRW_INJ_MINOR      83\n",
       "CBN_CRW_INJ_SERIOUS    83\n",
       "CBN_CRW_INJ_FATAL      83\n",
       "CBN_CRW_INJ_UNK        82\n",
       "PAX_INJ_NONE           66\n",
       "PAX_INJ_MINOR          82\n",
       "PAX_INJ_SERIOUS        80\n",
       "PAX_INJ_FATAL          82\n",
       "PAX_INJ_UNK            83\n",
       "GRND_INJ_NONE          83\n",
       "GRND_INJ_MINOR         83\n",
       "GRND_INJ_SERIOUS       83\n",
       "GRND_INJ_FATAL         83\n",
       "GRND_INJ_UNK           82\n",
       "dtype: int64"
      ]
     },
     "execution_count": 46,
     "metadata": {},
     "output_type": "execute_result"
    }
   ],
   "source": [
    "df.describe()\n",
    "df.info()\n",
    "df.isnull().sum()"
   ]
  },
  {
   "cell_type": "code",
   "execution_count": 47,
   "id": "f62d9b4d",
   "metadata": {},
   "outputs": [],
   "source": [
    "numeric_cols = df.select_dtypes(include=['int64', 'float64']).columns.tolist()\n",
    "categorical_cols = df.select_dtypes(include=['object', 'category']).columns.tolist()"
   ]
  },
  {
   "cell_type": "code",
   "execution_count": 48,
   "id": "f9f75100",
   "metadata": {},
   "outputs": [
    {
     "name": "stderr",
     "output_type": "stream",
     "text": [
      "C:\\Users\\sahil\\AppData\\Local\\Temp\\ipykernel_22392\\1203606999.py:2: FutureWarning: A value is trying to be set on a copy of a DataFrame or Series through chained assignment using an inplace method.\n",
      "The behavior will change in pandas 3.0. This inplace method will never work because the intermediate object on which we are setting values always behaves as a copy.\n",
      "\n",
      "For example, when doing 'df[col].method(value, inplace=True)', try using 'df.method({col: value}, inplace=True)' or df[col] = df[col].method(value) instead, to perform the operation inplace on the original object.\n",
      "\n",
      "\n",
      "  df[col].fillna(df[col].mean(), inplace=True)\n"
     ]
    }
   ],
   "source": [
    "for col in numeric_cols:\n",
    "    df[col].fillna(df[col].mean(), inplace=True)"
   ]
  },
  {
   "cell_type": "code",
   "execution_count": 49,
   "id": "13496993",
   "metadata": {},
   "outputs": [
    {
     "name": "stderr",
     "output_type": "stream",
     "text": [
      "C:\\Users\\sahil\\AppData\\Local\\Temp\\ipykernel_22392\\2383048195.py:2: FutureWarning: A value is trying to be set on a copy of a DataFrame or Series through chained assignment using an inplace method.\n",
      "The behavior will change in pandas 3.0. This inplace method will never work because the intermediate object on which we are setting values always behaves as a copy.\n",
      "\n",
      "For example, when doing 'df[col].method(value, inplace=True)', try using 'df.method({col: value}, inplace=True)' or df[col] = df[col].method(value) instead, to perform the operation inplace on the original object.\n",
      "\n",
      "\n",
      "  df[col].fillna('Unknown', inplace=True)\n"
     ]
    }
   ],
   "source": [
    "for col in categorical_cols:\n",
    "    df[col].fillna('Unknown', inplace=True)"
   ]
  },
  {
   "cell_type": "code",
   "execution_count": 50,
   "id": "29a22080",
   "metadata": {},
   "outputs": [
    {
     "data": {
      "text/plain": [
       "UPDATED                 0\n",
       "ENTRY_DATE              0\n",
       "EVENT_LCL_DATE          0\n",
       "EVENT_LCL_TIME          0\n",
       "LOC_CITY_NAME           0\n",
       "LOC_STATE_NAME          0\n",
       "LOC_CNTRY_NAME          0\n",
       "RMK_TEXT                0\n",
       "EVENT_TYPE_DESC         0\n",
       "FSDO_DESC               0\n",
       "REGIST_NBR              0\n",
       "FLT_NBR                 0\n",
       "ACFT_OPRTR              0\n",
       "ACFT_MAKE_NAME          0\n",
       "ACFT_MODEL_NAME         0\n",
       "ACFT_MISSING_FLAG      83\n",
       "ACFT_DMG_DESC           0\n",
       "FLT_ACTIVITY            0\n",
       "FLT_PHASE               0\n",
       "FAR_PART                0\n",
       "MAX_INJ_LVL             0\n",
       "FATAL_FLAG              0\n",
       "FLT_CRW_INJ_NONE        0\n",
       "FLT_CRW_INJ_MINOR       0\n",
       "FLT_CRW_INJ_SERIOUS     0\n",
       "FLT_CRW_INJ_FATAL       0\n",
       "FLT_CRW_INJ_UNK        83\n",
       "CBN_CRW_INJ_NONE       83\n",
       "CBN_CRW_INJ_MINOR      83\n",
       "CBN_CRW_INJ_SERIOUS    83\n",
       "CBN_CRW_INJ_FATAL      83\n",
       "CBN_CRW_INJ_UNK         0\n",
       "PAX_INJ_NONE            0\n",
       "PAX_INJ_MINOR           0\n",
       "PAX_INJ_SERIOUS         0\n",
       "PAX_INJ_FATAL           0\n",
       "PAX_INJ_UNK            83\n",
       "GRND_INJ_NONE          83\n",
       "GRND_INJ_MINOR         83\n",
       "GRND_INJ_SERIOUS       83\n",
       "GRND_INJ_FATAL         83\n",
       "GRND_INJ_UNK            0\n",
       "dtype: int64"
      ]
     },
     "execution_count": 50,
     "metadata": {},
     "output_type": "execute_result"
    }
   ],
   "source": [
    "df.isnull().sum()"
   ]
  },
  {
   "cell_type": "code",
   "execution_count": 51,
   "id": "e98f0061",
   "metadata": {},
   "outputs": [],
   "source": [
    "from sklearn.preprocessing import OneHotEncoder\n",
    "\n",
    "# Use sparse_output=False instead of sparse=False\n",
    "encoder = OneHotEncoder(sparse_output=False, handle_unknown='ignore')\n",
    "\n",
    "# Fit and transform categorical data\n",
    "categorical_encoded = encoder.fit_transform(df[categorical_cols])\n",
    "\n",
    "# Get feature names\n",
    "encoded_feature_names = encoder.get_feature_names_out(categorical_cols)\n",
    "\n",
    "# Create DataFrame from encoded array\n",
    "categorical_encoded_df = pd.DataFrame(categorical_encoded, columns=encoded_feature_names)\n",
    "\n",
    "# Combine numeric and encoded categorical columns\n",
    "df = pd.concat([df[numeric_cols].reset_index(drop=True), categorical_encoded_df.reset_index(drop=True)], axis=1)\n"
   ]
  },
  {
   "cell_type": "code",
   "execution_count": 52,
   "id": "f796416a",
   "metadata": {},
   "outputs": [],
   "source": [
    "df.shape\n",
    "df = df.dropna(axis=1)\n",
    "\n",
    "# Recompute numeric and categorical columns after dropping\n",
    "numeric_cols = df.select_dtypes(include=['int64', 'float64']).columns.tolist()\n",
    "categorical_cols = df.select_dtypes(include=['object', 'category']).columns.tolist()"
   ]
  },
  {
   "cell_type": "code",
   "execution_count": 53,
   "id": "12682a62",
   "metadata": {},
   "outputs": [],
   "source": [
    "from sklearn.preprocessing import StandardScaler\n",
    "X = df\n",
    "X = X.fillna(X.mean())\n",
    "scaler = StandardScaler()\n",
    "X_scaled = scaler.fit_transform(X) \n",
    "X_original = X_scaled\n"
   ]
  },
  {
   "cell_type": "code",
   "execution_count": 54,
   "id": "e3a119ee",
   "metadata": {},
   "outputs": [],
   "source": [
    "mu = X_scaled.mean(axis=0)  \n",
    "A = X_scaled - mu  "
   ]
  },
  {
   "cell_type": "code",
   "execution_count": 55,
   "id": "4b17ff4b",
   "metadata": {},
   "outputs": [],
   "source": [
    "def power_iteration_sym(M, max_iter=1000, tol=1e-9):\n",
    "    d = M.shape[0]\n",
    "    \n",
    "    v = np.random.randn(d)\n",
    "    v /= np.linalg.norm(v) + 1e-15\n",
    "\n",
    "    last_val = 0.0\n",
    "    for _ in range(max_iter):\n",
    "        w = M @ v\n",
    "        norm_w = np.linalg.norm(w)\n",
    "        if norm_w < 1e-15:\n",
    "            # M is singular in this direction\n",
    "            return 0.0, v\n",
    "        v = w / norm_w\n",
    "        # Rayleigh quotient gives eigenvalue estimate\n",
    "        val = float(v.T @ (M @ v))\n",
    "        if abs(val - last_val) < tol * max(1.0, abs(last_val)):\n",
    "            break\n",
    "        last_val = val\n",
    "    return val, v"
   ]
  },
  {
   "cell_type": "code",
   "execution_count": 56,
   "id": "f1a9afe8",
   "metadata": {},
   "outputs": [],
   "source": [
    "def top_k_eig_power_deflation(M, k, max_iter=1000, tol=1e-9):\n",
    "    d = M.shape[0]\n",
    "    V = np.zeros((d, k))\n",
    "    vals = np.zeros(k)\n",
    "\n",
    "    # We maintain a working copy for deflation\n",
    "    M_work = M.copy()\n",
    "\n",
    "    for j in range(k):\n",
    "        val, vec = power_iteration_sym(M_work, max_iter=max_iter, tol=tol)\n",
    "\n",
    "        # Re-orthogonalize vec against previously found vectors (stabilizes numerics)\n",
    "        if j > 0:\n",
    "            # Gram-Schmidt\n",
    "            proj = V[:, :j] @ (V[:, :j].T @ vec)\n",
    "            vec = vec - proj\n",
    "            nrm = np.linalg.norm(vec)\n",
    "            if nrm > 1e-15:\n",
    "                vec = vec / nrm\n",
    "            else:\n",
    "                # If it collapses numerically, just return what we have\n",
    "                vals = vals[:j]\n",
    "                V = V[:, :j]\n",
    "                break\n",
    "\n",
    "            # Recompute eigenvalue after orthogonalization\n",
    "            val = float(vec.T @ (M @ vec))\n",
    "\n",
    "        vals[j] = val\n",
    "        V[:, j] = vec\n",
    "\n",
    "        # Rank-1 deflation: remove this eigen-direction\n",
    "        # Safe because M is symmetric: M <- M - lambda * v v^T\n",
    "        M_work = M_work - val * np.outer(vec, vec)\n",
    "\n",
    "    # Ensure descending order (power+deflation should already produce descending, but just in case)\n",
    "    order = np.argsort(-vals)\n",
    "    return vals[order], V[:, order]"
   ]
  },
  {
   "cell_type": "code",
   "execution_count": 57,
   "id": "f3e17373",
   "metadata": {},
   "outputs": [],
   "source": [
    "candidate_ns = [1, 2, 3,4, 5,6, 7,8,9, 10,11,12, 15,20,25,30,35,40,45,50,70,90,100,120,150]\n",
    "candidate_ns = [n for n in candidate_ns if n <= A.shape[1]]"
   ]
  },
  {
   "cell_type": "code",
   "execution_count": 58,
   "id": "f32d6b08",
   "metadata": {},
   "outputs": [
    {
     "data": {
      "text/plain": [
       "[1,\n",
       " 2,\n",
       " 3,\n",
       " 4,\n",
       " 5,\n",
       " 6,\n",
       " 7,\n",
       " 8,\n",
       " 9,\n",
       " 10,\n",
       " 11,\n",
       " 12,\n",
       " 15,\n",
       " 20,\n",
       " 25,\n",
       " 30,\n",
       " 35,\n",
       " 40,\n",
       " 45,\n",
       " 50,\n",
       " 70,\n",
       " 90,\n",
       " 100,\n",
       " 120,\n",
       " 150]"
      ]
     },
     "execution_count": 58,
     "metadata": {},
     "output_type": "execute_result"
    }
   ],
   "source": [
    "candidate_ns"
   ]
  },
  {
   "cell_type": "code",
   "execution_count": 59,
   "id": "6b5d8e4e",
   "metadata": {},
   "outputs": [
    {
     "name": "stdout",
     "output_type": "stream",
     "text": [
      "n= 1 | Reconstruction Error = 45228.866105\n",
      "n= 2 | Reconstruction Error = 44132.083291\n",
      "n= 3 | Reconstruction Error = 43199.580232\n",
      "n= 4 | Reconstruction Error = 42316.234796\n",
      "n= 5 | Reconstruction Error = 41471.008640\n",
      "n= 6 | Reconstruction Error = 40644.010619\n",
      "n= 7 | Reconstruction Error = 39819.848952\n",
      "n= 8 | Reconstruction Error = 39001.248394\n",
      "n= 9 | Reconstruction Error = 38209.176076\n",
      "n=10 | Reconstruction Error = 37452.214974\n",
      "n=11 | Reconstruction Error = 36701.347512\n",
      "n=12 | Reconstruction Error = 35963.363169\n",
      "n=15 | Reconstruction Error = 33785.144723\n",
      "n=20 | Reconstruction Error = 30332.863275\n",
      "n=25 | Reconstruction Error = 27059.064527\n",
      "n=30 | Reconstruction Error = 23919.330941\n",
      "n=35 | Reconstruction Error = 20931.172331\n",
      "n=40 | Reconstruction Error = 18085.792851\n",
      "n=45 | Reconstruction Error = 15360.706826\n",
      "n=50 | Reconstruction Error = 12773.614259\n",
      "n=70 | Reconstruction Error = 3886.788190\n",
      "n=90 | Reconstruction Error = 0.102249\n",
      "n=100 | Reconstruction Error = 0.053917\n",
      "n=120 | Reconstruction Error = 0.170761\n",
      "n=150 | Reconstruction Error = 0.037204\n"
     ]
    }
   ],
   "source": [
    "errors = []\n",
    " # Centered data\n",
    "C= (A.T @ A) / A.shape[0]  # Covariance matrix\n",
    "for n in candidate_ns:\n",
    "    evals_n, evecs_n = top_k_eig_power_deflation(C, k=n, max_iter=2000, tol=1e-10)\n",
    "    \n",
    "    # Project and reconstruct\n",
    "    Z = A @ evecs_n               # (n_samples, n)\n",
    "    X_rec = Z @ evecs_n.T + mu    # (n_samples, d)\n",
    "    \n",
    "    # Compute SSE\n",
    "    err = float(np.sum((X_original  - X_rec) ** 2))\n",
    "    errors.append(err)\n",
    "    print(f\"n={n:>2} | Reconstruction Error = {err:.6f}\")\n"
   ]
  },
  {
   "cell_type": "code",
   "execution_count": 60,
   "id": "700ddb0f",
   "metadata": {},
   "outputs": [],
   "source": [
    "evals_std, evecs_std = np.linalg.eigh(C)\n",
    "idx = np.argsort(evals_std)[::-1]\n",
    "evals_std = evals_std[idx]\n",
    "evecs_std = evecs_std[:, idx]"
   ]
  },
  {
   "cell_type": "code",
   "execution_count": 61,
   "id": "c76945e0",
   "metadata": {},
   "outputs": [],
   "source": [
    "errors_std = []\n",
    "for n in candidate_ns:\n",
    "    Z_std = A @ evecs_std[:, :n]\n",
    "    X_rec_std = Z_std @ evecs_std[:, :n].T + mu\n",
    "    err_std = float(np.sum((X_original - X_rec_std) ** 2))\n",
    "    errors_std.append(err_std)\n"
   ]
  },
  {
   "cell_type": "code",
   "execution_count": 62,
   "id": "c0f8dd8b",
   "metadata": {},
   "outputs": [
    {
     "data": {
      "image/png": "[encoded data removed]",
      "text/plain": [
       "<Figure size 800x500 with 1 Axes>"
      ]
     },
     "metadata": {},
     "output_type": "display_data"
    }
   ],
   "source": [
    "import matplotlib.pyplot as plt\n",
    "plt.figure(figsize=(8, 5))\n",
    "plt.plot(candidate_ns, errors_std, 'o-', color='orange', label='NumPy')\n",
    "plt.plot(candidate_ns, errors, 's--', color='blue', label='Manual')  # Add manual implementation\n",
    "plt.xlabel('Number of Eigenvectors (n)')\n",
    "plt.ylabel('Reconstruction Error (SSE)')\n",
    "plt.title('Reconstruction Error vs Number of Eigenvectors')\n",
    "plt.legend()\n",
    "plt.grid(True)\n",
    "plt.show()\n"
   ]
  }
 ],
 "metadata": {
  "kernelspec": {
   "display_name": "base",
   "language": "python",
   "name": "python3"
  },
  "language_info": {
   "codemirror_mode": {
    "name": "ipython",
    "version": 3
   },
   "file_extension": ".py",
   "mimetype": "text/x-python",
   "name": "python",
   "nbconvert_exporter": "python",
   "pygments_lexer": "ipython3",
   "version": "3.13.5"
  }
 },
 "nbformat": 4,
 "nbformat_minor": 5
}
