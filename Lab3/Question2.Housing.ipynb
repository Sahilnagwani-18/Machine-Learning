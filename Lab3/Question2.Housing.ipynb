{
 "cells": [
  {
   "cell_type": "code",
   "execution_count": 16,
   "id": "df0289c1",
   "metadata": {},
   "outputs": [],
   "source": [
    "import numpy as np\n",
    "import pandas as pd\n",
    "import matplotlib.pyplot as plt"
   ]
  },
  {
   "cell_type": "code",
   "execution_count": 17,
   "id": "463b50d3",
   "metadata": {},
   "outputs": [],
   "source": [
    "def mse(y_true, y_pred):\n",
    "    return np.mean((y_true - y_pred) ** 2)"
   ]
  },
  {
   "cell_type": "code",
   "execution_count": 18,
   "id": "e37fc2c3",
   "metadata": {},
   "outputs": [],
   "source": [
    "class SimpleGradientDescent:\n",
    "    def __init__(self, learning_rate=0.01, iterations=1000):\n",
    "        self.lr = learning_rate\n",
    "        self.iters = iterations\n",
    "        self.weights = None\n",
    "        self.bias = None\n",
    "        self.loss_history = []\n",
    "\n",
    "    def fit(self, X, y):\n",
    "        n_samples, n_features = X.shape\n",
    "        self.weights = np.zeros(n_features)\n",
    "        self.bias = 0\n",
    "\n",
    "        for i in range(self.iters):\n",
    "            y_pred = np.dot(X, self.weights) + self.bias\n",
    "\n",
    "            \n",
    "            dw = (-2/n_samples) * np.dot(X.T, (y - y_pred))\n",
    "            db = (-2/n_samples) * np.sum(y - y_pred)\n",
    "\n",
    "            \n",
    "            self.weights -= self.lr * dw\n",
    "            self.bias -= self.lr * db\n",
    "\n",
    "            \n",
    "            loss = mse(y, y_pred)\n",
    "            self.loss_history.append(loss)\n",
    "\n",
    "    def predict(self, X):\n",
    "        return np.dot(X, self.weights) + self.bias\n",
    "\n"
   ]
  },
  {
   "cell_type": "code",
   "execution_count": 19,
   "id": "4d45514c",
   "metadata": {},
   "outputs": [],
   "source": [
    "class MomentumGradientDescent:\n",
    "    def __init__(self, learning_rate=0.01, iterations=1000, gamma=0.9):\n",
    "        self.lr = learning_rate\n",
    "        self.iters = iterations\n",
    "        self.gamma = gamma\n",
    "        self.weights = None\n",
    "        self.bias = None\n",
    "        self.loss_history = []\n",
    "\n",
    "    def fit(self, X, y):\n",
    "        n_samples, n_features = X.shape\n",
    "        self.weights = np.zeros(n_features)\n",
    "        self.bias = 0\n",
    "\n",
    "        v_w = np.zeros(n_features)\n",
    "        v_b = 0\n",
    "\n",
    "        for i in range(self.iters):\n",
    "            y_pred = np.dot(X, self.weights) + self.bias\n",
    "\n",
    "            \n",
    "            dw = (-2/n_samples) * np.dot(X.T, (y - y_pred))\n",
    "            db = (-2/n_samples) * np.sum(y - y_pred)\n",
    "\n",
    "            \n",
    "            v_w = self.gamma * v_w + self.lr * dw\n",
    "            v_b = self.gamma * v_b + self.lr * db\n",
    "\n",
    "            self.weights -= v_w\n",
    "            self.bias -= v_b\n",
    "\n",
    "            loss = mse(y, y_pred)\n",
    "            self.loss_history.append(loss)\n",
    "\n",
    "    def predict(self, X):\n",
    "        return np.dot(X, self.weights) + self.bias\n",
    "\n"
   ]
  },
  {
   "cell_type": "code",
   "execution_count": 20,
   "id": "6695548a",
   "metadata": {},
   "outputs": [],
   "source": [
    "class NesterovGradientDescent:\n",
    "    def __init__(self, learning_rate=0.01, iterations=1000, gamma=0.9):\n",
    "        self.lr = learning_rate\n",
    "        self.iters = iterations\n",
    "        self.gamma = gamma\n",
    "        self.weights = None\n",
    "        self.bias = None\n",
    "        self.loss_history = []\n",
    "\n",
    "    def fit(self, X, y):\n",
    "        n_samples, n_features = X.shape\n",
    "        self.weights = np.zeros(n_features)\n",
    "        self.bias = 0\n",
    "\n",
    "        v_w = np.zeros(n_features)\n",
    "        v_b = 0\n",
    "\n",
    "        for i in range(self.iters):\n",
    "            \n",
    "            w_lookahead = self.weights - self.gamma * v_w\n",
    "            b_lookahead = self.bias - self.gamma * v_b\n",
    "\n",
    "            y_pred = np.dot(X, w_lookahead) + b_lookahead\n",
    "\n",
    "            \n",
    "            dw = (-2/n_samples) * np.dot(X.T, (y - y_pred))\n",
    "            db = (-2/n_samples) * np.sum(y - y_pred)\n",
    "\n",
    "            \n",
    "            v_w = self.gamma * v_w + self.lr * dw\n",
    "            v_b = self.gamma * v_b + self.lr * db\n",
    "\n",
    "            self.weights -= v_w\n",
    "            self.bias -= v_b\n",
    "\n",
    "            loss = mse(y, y_pred)\n",
    "            self.loss_history.append(loss)\n",
    "\n",
    "    def predict(self, X):\n",
    "        return np.dot(X, self.weights) + self.bias\n",
    "\n"
   ]
  },
  {
   "cell_type": "code",
   "execution_count": 21,
   "id": "53868ece",
   "metadata": {},
   "outputs": [],
   "source": [
    "df=pd.read_csv('Housing.csv')"
   ]
  },
  {
   "cell_type": "code",
   "execution_count": 22,
   "id": "8e7b1d82",
   "metadata": {},
   "outputs": [
    {
     "name": "stdout",
     "output_type": "stream",
     "text": [
      "<class 'pandas.core.frame.DataFrame'>\n",
      "RangeIndex: 545 entries, 0 to 544\n",
      "Data columns (total 13 columns):\n",
      " #   Column            Non-Null Count  Dtype \n",
      "---  ------            --------------  ----- \n",
      " 0   price             545 non-null    int64 \n",
      " 1   area              545 non-null    int64 \n",
      " 2   bedrooms          545 non-null    int64 \n",
      " 3   bathrooms         545 non-null    int64 \n",
      " 4   stories           545 non-null    int64 \n",
      " 5   mainroad          545 non-null    object\n",
      " 6   guestroom         545 non-null    object\n",
      " 7   basement          545 non-null    object\n",
      " 8   hotwaterheating   545 non-null    object\n",
      " 9   airconditioning   545 non-null    object\n",
      " 10  parking           545 non-null    int64 \n",
      " 11  prefarea          545 non-null    object\n",
      " 12  furnishingstatus  545 non-null    object\n",
      "dtypes: int64(6), object(7)\n",
      "memory usage: 55.5+ KB\n"
     ]
    }
   ],
   "source": [
    "df.head()\n",
    "df.describe()\n",
    "df.info()"
   ]
  },
  {
   "cell_type": "code",
   "execution_count": 23,
   "id": "36e0438c",
   "metadata": {},
   "outputs": [],
   "source": [
    "num_cols = df.select_dtypes(include=['int64', 'float64']).columns.tolist()\n",
    "\n",
    "cat_cols = df.select_dtypes(include=['object']).columns.tolist()"
   ]
  },
  {
   "cell_type": "code",
   "execution_count": 24,
   "id": "9c1e477b",
   "metadata": {},
   "outputs": [
    {
     "name": "stdout",
     "output_type": "stream",
     "text": [
      "mainroad --> ['yes' 'no']\n",
      "guestroom --> ['no' 'yes']\n",
      "basement --> ['no' 'yes']\n",
      "hotwaterheating --> ['no' 'yes']\n",
      "airconditioning --> ['yes' 'no']\n",
      "prefarea --> ['yes' 'no']\n",
      "furnishingstatus --> ['furnished' 'semi-furnished' 'unfurnished']\n"
     ]
    }
   ],
   "source": [
    "for col in cat_cols:\n",
    "    print(f\"{col} --> {df[col].unique()}\")"
   ]
  },
  {
   "cell_type": "code",
   "execution_count": 25,
   "id": "0f42ef45",
   "metadata": {},
   "outputs": [],
   "source": [
    "furnishing_map = {\n",
    "    'unfurnished': 0,\n",
    "    'semi-furnished': 1,\n",
    "    'furnished': 2\n",
    "}\n",
    "\n",
    "df['furnishingstatus'] = df['furnishingstatus'].map(furnishing_map)"
   ]
  },
  {
   "cell_type": "code",
   "execution_count": 26,
   "id": "0a5a8f91",
   "metadata": {},
   "outputs": [
    {
     "name": "stdout",
     "output_type": "stream",
     "text": [
      "Categorical Columns after mapping: ['mainroad', 'guestroom', 'basement', 'hotwaterheating', 'airconditioning', 'prefarea']\n"
     ]
    }
   ],
   "source": [
    "other_cat_map = {\n",
    "    'yes': 1,\n",
    "    'no': 0\n",
    "}\n",
    "\n",
    "cat_cols = df.select_dtypes(include=['object']).columns.tolist()\n",
    "print(\"Categorical Columns after mapping:\", cat_cols)"
   ]
  },
  {
   "cell_type": "code",
   "execution_count": 27,
   "id": "ca7ff7d6",
   "metadata": {},
   "outputs": [],
   "source": [
    "for col in cat_cols:\n",
    "    df[col] = df[col].map(other_cat_map)"
   ]
  },
  {
   "cell_type": "code",
   "execution_count": 28,
   "id": "4c3ddcb3",
   "metadata": {},
   "outputs": [
    {
     "name": "stdout",
     "output_type": "stream",
     "text": [
      "Categorical Columns after mapping: []\n"
     ]
    }
   ],
   "source": [
    "cat_cols = df.select_dtypes(include=['object']).columns.tolist()\n",
    "print(\"Categorical Columns after mapping:\", cat_cols)"
   ]
  },
  {
   "cell_type": "code",
   "execution_count": 29,
   "id": "ee677d60",
   "metadata": {},
   "outputs": [],
   "source": [
    "from sklearn.preprocessing import StandardScaler\n",
    "X = df.drop('price', axis=1)\n",
    "X = X.fillna(X.mean())\n",
    "scaler = StandardScaler()\n",
    "X_scaled = scaler.fit_transform(X) \n",
    "X = X_scaled\n",
    "y = df['price']"
   ]
  },
  {
   "cell_type": "code",
   "execution_count": 30,
   "id": "11cff9a2",
   "metadata": {},
   "outputs": [
    {
     "data": {
      "image/png": "[encoded data removed]",
      "text/plain": [
       "<Figure size 640x480 with 1 Axes>"
      ]
     },
     "metadata": {},
     "output_type": "display_data"
    }
   ],
   "source": [
    "sgd = SimpleGradientDescent(learning_rate=0.01, iterations=1000)\n",
    "sgd.fit(X, y)\n",
    "\n",
    "momentum = MomentumGradientDescent(learning_rate=0.01, iterations=1000, gamma=0.9)\n",
    "momentum.fit(X, y)\n",
    "\n",
    "nag = NesterovGradientDescent(learning_rate=0.01, iterations=1000, gamma=0.9)\n",
    "nag.fit(X, y)\n",
    "\n",
    "# Compare losses\n",
    "plt.plot(sgd.loss_history, label='Simple GD')\n",
    "plt.plot(momentum.loss_history, label='Momentum')\n",
    "plt.plot(nag.loss_history, label='NAG')\n",
    "plt.xlabel('Iterations')\n",
    "plt.ylabel('MSE Loss')\n",
    "plt.legend()\n",
    "plt.title('Convergence Comparison')\n",
    "plt.show()\n"
   ]
  }
 ],
 "metadata": {
  "kernelspec": {
   "display_name": "base",
   "language": "python",
   "name": "python3"
  },
  "language_info": {
   "codemirror_mode": {
    "name": "ipython",
    "version": 3
   },
   "file_extension": ".py",
   "mimetype": "text/x-python",
   "name": "python",
   "nbconvert_exporter": "python",
   "pygments_lexer": "ipython3",
   "version": "3.13.5"
  }
 },
 "nbformat": 4,
 "nbformat_minor": 5
}
