{
 "cells": [
  {
   "cell_type": "code",
   "execution_count": 25,
   "id": "ecfa2565",
   "metadata": {},
   "outputs": [
    {
     "data": {
      "text/html": [
       "<div>\n",
       "<style scoped>\n",
       "    .dataframe tbody tr th:only-of-type {\n",
       "        vertical-align: middle;\n",
       "    }\n",
       "\n",
       "    .dataframe tbody tr th {\n",
       "        vertical-align: top;\n",
       "    }\n",
       "\n",
       "    .dataframe thead th {\n",
       "        text-align: right;\n",
       "    }\n",
       "</style>\n",
       "<table border=\"1\" class=\"dataframe\">\n",
       "  <thead>\n",
       "    <tr style=\"text-align: right;\">\n",
       "      <th></th>\n",
       "      <th>Id</th>\n",
       "      <th>SepalLengthCm</th>\n",
       "      <th>SepalWidthCm</th>\n",
       "      <th>PetalLengthCm</th>\n",
       "      <th>PetalWidthCm</th>\n",
       "      <th>Species</th>\n",
       "    </tr>\n",
       "  </thead>\n",
       "  <tbody>\n",
       "    <tr>\n",
       "      <th>0</th>\n",
       "      <td>1</td>\n",
       "      <td>5.1</td>\n",
       "      <td>3.5</td>\n",
       "      <td>1.4</td>\n",
       "      <td>0.2</td>\n",
       "      <td>Iris-setosa</td>\n",
       "    </tr>\n",
       "    <tr>\n",
       "      <th>1</th>\n",
       "      <td>2</td>\n",
       "      <td>4.9</td>\n",
       "      <td>3.0</td>\n",
       "      <td>1.4</td>\n",
       "      <td>0.2</td>\n",
       "      <td>Iris-setosa</td>\n",
       "    </tr>\n",
       "    <tr>\n",
       "      <th>2</th>\n",
       "      <td>3</td>\n",
       "      <td>4.7</td>\n",
       "      <td>3.2</td>\n",
       "      <td>1.3</td>\n",
       "      <td>0.2</td>\n",
       "      <td>Iris-setosa</td>\n",
       "    </tr>\n",
       "    <tr>\n",
       "      <th>3</th>\n",
       "      <td>4</td>\n",
       "      <td>4.6</td>\n",
       "      <td>3.1</td>\n",
       "      <td>1.5</td>\n",
       "      <td>0.2</td>\n",
       "      <td>Iris-setosa</td>\n",
       "    </tr>\n",
       "    <tr>\n",
       "      <th>4</th>\n",
       "      <td>5</td>\n",
       "      <td>5.0</td>\n",
       "      <td>3.6</td>\n",
       "      <td>1.4</td>\n",
       "      <td>0.2</td>\n",
       "      <td>Iris-setosa</td>\n",
       "    </tr>\n",
       "  </tbody>\n",
       "</table>\n",
       "</div>"
      ],
      "text/plain": [
       "   Id  SepalLengthCm  SepalWidthCm  PetalLengthCm  PetalWidthCm      Species\n",
       "0   1            5.1           3.5            1.4           0.2  Iris-setosa\n",
       "1   2            4.9           3.0            1.4           0.2  Iris-setosa\n",
       "2   3            4.7           3.2            1.3           0.2  Iris-setosa\n",
       "3   4            4.6           3.1            1.5           0.2  Iris-setosa\n",
       "4   5            5.0           3.6            1.4           0.2  Iris-setosa"
      ]
     },
     "execution_count": 25,
     "metadata": {},
     "output_type": "execute_result"
    }
   ],
   "source": [
    "import pandas as pd\n",
    "import numpy as np\n",
    "df=pd.read_csv('Iris.csv')\n",
    "df.head()"
   ]
  },
  {
   "cell_type": "code",
   "execution_count": 26,
   "id": "56d0758a",
   "metadata": {},
   "outputs": [
    {
     "data": {
      "text/plain": [
       "Species\n",
       "Iris-setosa        50\n",
       "Iris-versicolor    50\n",
       "Iris-virginica     50\n",
       "Name: count, dtype: int64"
      ]
     },
     "execution_count": 26,
     "metadata": {},
     "output_type": "execute_result"
    }
   ],
   "source": [
    "df['Species'].value_counts()"
   ]
  },
  {
   "cell_type": "code",
   "execution_count": 27,
   "id": "0a072462",
   "metadata": {},
   "outputs": [],
   "source": [
    "map_setosa = {'Iris-setosa': 1, 'Iris-versicolor': 0, 'Iris-virginica': 0}\n",
    "map_versicolor = {'Iris-setosa': 0, 'Iris-versicolor': 1, 'Iris-virginica': 0}\n",
    "map_virginica = {'Iris-setosa': 0, 'Iris-versicolor': 0, 'Iris-virginica': 1}"
   ]
  },
  {
   "cell_type": "code",
   "execution_count": 28,
   "id": "93e7940c",
   "metadata": {},
   "outputs": [],
   "source": [
    "df_setosa = df.copy()\n",
    "df_versicolor = df.copy()\n",
    "df_virginica = df.copy()"
   ]
  },
  {
   "cell_type": "code",
   "execution_count": 29,
   "id": "f0d979c6",
   "metadata": {},
   "outputs": [],
   "source": [
    "df_setosa['Species'] = df_setosa['Species'].map(map_setosa)\n",
    "df_versicolor['Species'] = df_versicolor['Species'].map(map_versicolor)\n",
    "df_virginica['Species'] = df_virginica['Species'].map(map_virginica)"
   ]
  },
  {
   "cell_type": "code",
   "execution_count": 30,
   "id": "361cf3d5",
   "metadata": {},
   "outputs": [],
   "source": [
    "from sklearn.model_selection import train_test_split\n",
    "\n",
    "train_setosa, temp_setosa = train_test_split(df_setosa, test_size=0.2, random_state=42)  \n",
    "val_setosa, test_setosa = train_test_split(temp_setosa, test_size=0.5, random_state=42) \n",
    "\n",
    "train_versicolor, temp_versicolor = train_test_split(df_versicolor, test_size=0.2, random_state=42)  \n",
    "val_versicolor, test_versicolor = train_test_split(temp_versicolor, test_size=0.5, random_state=42)\n",
    "\n",
    "train_virginica, temp_virginica = train_test_split(df_virginica, test_size=0.2, random_state=42)  \n",
    "val_verginica, test_verginica = train_test_split(temp_virginica, test_size=0.5, random_state=42)\n",
    "\n",
    "\n",
    "train_setosa_70, temp_setosa_70 = train_test_split(df_setosa, test_size=0.3, random_state=42)  \n",
    "val_setosa_70, test_setosa_70 = train_test_split(temp_setosa_70, test_size=0.5, random_state=42) \n",
    "\n",
    "train_versicolor_70, temp_versicolor_70 = train_test_split(df_versicolor, test_size=0.3, random_state=42)  \n",
    "val_versicolor_70, test_versicolor_70 = train_test_split(temp_versicolor_70, test_size=0.5, random_state=42)\n",
    "\n",
    "train_virginica_70, temp_virginica_70 = train_test_split(df_virginica, test_size=0.3, random_state=42)  \n",
    "val_verginica_70, test_verginica_70 = train_test_split(temp_virginica_70, test_size=0.5, random_state=42)\n",
    "\n",
    "\n"
   ]
  },
  {
   "cell_type": "code",
   "execution_count": 31,
   "id": "ecb2ccd4",
   "metadata": {},
   "outputs": [
    {
     "name": "stdout",
     "output_type": "stream",
     "text": [
      "Now we will test on validation set\n",
      "Validation Accuracy for Setosa: 1.0\n",
      "Now we will test on test set\n",
      "Test Accuracy for Setosa: 1.0\n",
      "[ 0.00084334  0.05376351  0.26424583 -0.22307191 -0.09176106]\n",
      "0.08961278995970312\n"
     ]
    }
   ],
   "source": [
    "from sklearn.linear_model import LinearRegression\n",
    "from sklearn.metrics import accuracy_score\n",
    "\n",
    "\n",
    "model_setosa=LinearRegression()\n",
    "\n",
    "#80-10-10 split Setosa\n",
    "\n",
    "X_train_setosa = train_setosa.drop(columns=['Species'])\n",
    "y_train_setosa = train_setosa['Species']\n",
    "X_val_setosa = val_setosa.drop(columns=['Species'])\n",
    "y_val_setosa = val_setosa['Species']\n",
    "X_test_setosa = test_setosa.drop(columns=['Species'])\n",
    "y_test_setosa = test_setosa['Species']\n",
    "model_setosa.fit(X_train_setosa, y_train_setosa)\n",
    "\n",
    "print('Now we will test on validation set')\n",
    "\n",
    "y_val_pred_setosa = model_setosa.predict(X_val_setosa)\n",
    "y_val_pred_setosa = [1 if pred > 0.5 else 0 for pred in y_val_pred_setosa]\n",
    "\n",
    "accuracy_setosa = accuracy_score(y_val_setosa, y_val_pred_setosa)\n",
    "print(f'Validation Accuracy for Setosa: {accuracy_setosa}')\n",
    "\n",
    "print('Now we will test on test set')\n",
    "y_test_pred_setosa = model_setosa.predict(X_test_setosa)\n",
    "y_test_pred_setosa = [1 if pred > 0.5 else 0 for pred in y_test_pred_setosa]\n",
    "accuracy_setosa_test = accuracy_score(y_test_setosa, y_test_pred_setosa)\n",
    "print(f'Test Accuracy for Setosa: {accuracy_setosa_test}')\n",
    "\n",
    "\n",
    "print(model_setosa.coef_)\n",
    "print(model_setosa.intercept_)\n"
   ]
  },
  {
   "cell_type": "code",
   "execution_count": 32,
   "id": "cdecf389",
   "metadata": {},
   "outputs": [
    {
     "name": "stdout",
     "output_type": "stream",
     "text": [
      "Now we will test on validation set\n",
      "Validation Accuracy for versicolr: 0.8\n",
      "Now we will test on test set\n",
      "Test Accuracy for versicolor: 0.8666666666666667\n"
     ]
    }
   ],
   "source": [
    "model_versicolor=LinearRegression()\n",
    "X_train_versicolor = train_versicolor.drop(columns=['Species'])\n",
    "y_train_versicolor = train_versicolor['Species']\n",
    "X_val_versicolor = val_versicolor.drop(columns=['Species'])\n",
    "y_val_versicolor = val_versicolor['Species']\n",
    "X_test_versicolor = test_versicolor.drop(columns=['Species'])\n",
    "y_test_versicolor = test_versicolor['Species']\n",
    "model_versicolor.fit(X_train_versicolor, y_train_versicolor)\n",
    "\n",
    "print('Now we will test on validation set')\n",
    "y_val_pred_versicolor = model_versicolor.predict(X_val_versicolor)\n",
    "y_val_pred_versicolor = [1 if pred > 0.5 else 0 for pred in y_val_pred_versicolor]\n",
    "\n",
    "accuracy_versicolor = accuracy_score(y_val_versicolor, y_val_pred_versicolor)\n",
    "print(f'Validation Accuracy for versicolr: {accuracy_versicolor}')\n",
    "\n",
    "print('Now we will test on test set')\n",
    "y_test_pred_versicolor = model_versicolor.predict(X_test_versicolor)\n",
    "y_test_pred_versicolor = [1 if pred > 0.5 else 0 for pred in y_test_pred_versicolor]\n",
    "accuracy_versicolor_test = accuracy_score(y_test_versicolor, y_test_pred_versicolor)\n",
    "print(f'Test Accuracy for versicolor: {accuracy_versicolor_test}')"
   ]
  },
  {
   "cell_type": "code",
   "execution_count": 33,
   "id": "8a0bd5c3",
   "metadata": {},
   "outputs": [
    {
     "name": "stdout",
     "output_type": "stream",
     "text": [
      "Now we will test on validation set\n",
      "Validation Accuracy for virginica: 0.9333333333333333\n",
      "Now we will test on test set\n",
      "Test Accuracy for virginica: 1.0\n"
     ]
    }
   ],
   "source": [
    "\n",
    "model_virginica=LinearRegression()\n",
    "\n",
    "X_train_virginica = train_virginica.drop(columns=['Species'])\n",
    "y_train_virginica = train_virginica['Species']\n",
    "X_val_verginica = val_verginica.drop(columns=['Species'])\n",
    "y_val_verginica = val_verginica['Species']\n",
    "X_test_verginica = test_verginica.drop(columns=['Species'])\n",
    "y_test_verginica = test_verginica['Species']\n",
    "model_virginica.fit(X_train_virginica, y_train_virginica)\n",
    "\n",
    "print('Now we will test on validation set')\n",
    "\n",
    "y_val_pred_virginica = model_virginica.predict(X_val_verginica)\n",
    "y_val_pred_virginica = [1 if pred > 0.5 else 0 for pred in y_val_pred_virginica]\n",
    "\n",
    "accuracy_virginica = accuracy_score(y_val_verginica, y_val_pred_virginica)\n",
    "print(f'Validation Accuracy for virginica: {accuracy_virginica}')\n",
    "\n",
    "print('Now we will test on test set')\n",
    "y_test_pred_virginica = model_virginica.predict(X_test_verginica)\n",
    "y_test_pred_virginica = [1 if pred > 0.5 else 0 for pred in y_test_pred_virginica]\n",
    "accuracy_virginica_test = accuracy_score(y_test_verginica, y_test_pred_virginica)\n",
    "print(f'Test Accuracy for virginica: {accuracy_virginica_test}')"
   ]
  },
  {
   "cell_type": "code",
   "execution_count": 34,
   "id": "b294582a",
   "metadata": {},
   "outputs": [
    {
     "name": "stdout",
     "output_type": "stream",
     "text": [
      "Now we will test on validation set\n",
      "Validation Accuracy for Setosa: 1.0\n",
      "Now we will test on test set\n",
      "Test Accuracy for Setosa: 1.0\n",
      "[ 0.0003605   0.06618995  0.29636358 -0.2212671  -0.08004063]\n",
      "-0.05465421086990907\n"
     ]
    }
   ],
   "source": [
    "#Working with 70 15 15 split\n",
    "model_setosa_70=LinearRegression()\n",
    "\n",
    "\n",
    "\n",
    "X_train_setosa_70 = train_setosa_70.drop(columns=['Species'])\n",
    "y_train_setosa_70 = train_setosa_70['Species']\n",
    "X_val_setosa_70 = val_setosa_70.drop(columns=['Species'])\n",
    "y_val_setosa_70 = val_setosa_70['Species']\n",
    "X_test_setosa_70 = test_setosa_70.drop(columns=['Species'])\n",
    "y_test_setosa_70 = test_setosa_70['Species']\n",
    "model_setosa_70.fit(X_train_setosa_70, y_train_setosa_70)\n",
    "\n",
    "print('Now we will test on validation set')\n",
    "\n",
    "y_val_pred_setosa_70 = model_setosa_70.predict(X_val_setosa_70)\n",
    "y_val_pred_setosa_70 = [1 if pred > 0.5 else 0 for pred in y_val_pred_setosa_70]\n",
    "\n",
    "accuracy_setosa_70 = accuracy_score(y_val_setosa_70, y_val_pred_setosa_70)\n",
    "print(f'Validation Accuracy for Setosa: {accuracy_setosa_70}')\n",
    "\n",
    "print('Now we will test on test set')\n",
    "y_test_pred_setosa_70 = model_setosa_70.predict(X_test_setosa_70)\n",
    "y_test_pred_setosa_70 = [1 if pred > 0.5 else 0 for pred in y_test_pred_setosa_70]\n",
    "accuracy_setosa_test_70 = accuracy_score(y_test_setosa_70, y_test_pred_setosa_70)\n",
    "print(f'Test Accuracy for Setosa: {accuracy_setosa_test_70}')\n",
    "\n",
    "\n",
    "print(model_setosa_70.coef_)\n",
    "print(model_setosa_70.intercept_)"
   ]
  },
  {
   "cell_type": "code",
   "execution_count": 36,
   "id": "cdc1644b",
   "metadata": {},
   "outputs": [
    {
     "name": "stdout",
     "output_type": "stream",
     "text": [
      "Now we will test on validation set\n",
      "Validation Accuracy for versicolr: 0.9545454545454546\n",
      "Now we will test on test set\n",
      "Test Accuracy for versicolor: 0.6956521739130435\n"
     ]
    }
   ],
   "source": [
    "model_versicolor_70=LinearRegression()\n",
    "X_train_versicolor_70 = train_versicolor_70.drop(columns=['Species'])\n",
    "y_train_versicolor_70 = train_versicolor_70['Species']\n",
    "X_val_versicolor_70 = val_versicolor_70.drop(columns=['Species'])\n",
    "y_val_versicolor_70 = val_versicolor_70['Species']\n",
    "X_test_versicolor_70 = test_versicolor_70.drop(columns=['Species'])\n",
    "y_test_versicolor_70 = test_versicolor_70['Species']\n",
    "model_versicolor_70.fit(X_train_versicolor_70, y_train_versicolor_70)\n",
    "\n",
    "print('Now we will test on validation set')\n",
    "y_val_pred_versicolor_70 = model_versicolor_70.predict(X_val_versicolor_70)\n",
    "y_val_pred_versicolor_70 = [1 if pred > 0.5 else 0 for pred in y_val_pred_versicolor_70]\n",
    "\n",
    "accuracy_versicolor_70 = accuracy_score(y_val_versicolor_70, y_val_pred_versicolor_70)\n",
    "print(f'Validation Accuracy for versicolr: {accuracy_versicolor_70}')\n",
    "\n",
    "print('Now we will test on test set')\n",
    "y_test_pred_versicolor_70 = model_versicolor_70.predict(X_test_versicolor_70)\n",
    "y_test_pred_versicolor_70 = [1 if pred > 0.5 else 0 for pred in y_test_pred_versicolor_70]\n",
    "accuracy_versicolor_test_70 = accuracy_score(y_test_versicolor_70, y_test_pred_versicolor_70)\n",
    "print(f'Test Accuracy for versicolor: {accuracy_versicolor_test_70}')"
   ]
  },
  {
   "cell_type": "code",
   "execution_count": 37,
   "id": "e1baeacc",
   "metadata": {},
   "outputs": [
    {
     "name": "stdout",
     "output_type": "stream",
     "text": [
      "Now we will test on validation set\n",
      "Validation Accuracy for virginica: 1.0\n",
      "Now we will test on test set\n",
      "Test Accuracy for virginica: 0.9565217391304348\n"
     ]
    }
   ],
   "source": [
    "\n",
    "model_virginica_70=LinearRegression()\n",
    "\n",
    "X_train_virginica_70 = train_virginica_70.drop(columns=['Species'])\n",
    "y_train_virginica_70 = train_virginica_70['Species']\n",
    "X_val_verginica_70 = val_verginica_70.drop(columns=['Species'])\n",
    "y_val_verginica_70= val_verginica_70['Species']\n",
    "X_test_verginica_70 = test_verginica_70.drop(columns=['Species'])\n",
    "y_test_verginica_70 = test_verginica_70['Species']\n",
    "model_virginica_70.fit(X_train_virginica_70, y_train_virginica_70)\n",
    "\n",
    "print('Now we will test on validation set')\n",
    "\n",
    "y_val_pred_virginica_70 = model_virginica_70.predict(X_val_verginica_70)\n",
    "y_val_pred_virginica_70 = [1 if pred > 0.5 else 0 for pred in y_val_pred_virginica_70]\n",
    "\n",
    "accuracy_virginica_70 = accuracy_score(y_val_verginica_70, y_val_pred_virginica_70)\n",
    "print(f'Validation Accuracy for virginica: {accuracy_virginica_70}')\n",
    "\n",
    "print('Now we will test on test set')\n",
    "y_test_pred_virginica_70 = model_virginica_70.predict(X_test_verginica_70)\n",
    "y_test_pred_virginica_70 = [1 if pred > 0.5 else 0 for pred in y_test_pred_virginica_70]\n",
    "accuracy_virginica_test_70 = accuracy_score(y_test_verginica_70, y_test_pred_virginica_70)\n",
    "print(f'Test Accuracy for virginica: {accuracy_virginica_test_70}')"
   ]
  }
 ],
 "metadata": {
  "kernelspec": {
   "display_name": "base",
   "language": "python",
   "name": "python3"
  },
  "language_info": {
   "codemirror_mode": {
    "name": "ipython",
    "version": 3
   },
   "file_extension": ".py",
   "mimetype": "text/x-python",
   "name": "python",
   "nbconvert_exporter": "python",
   "pygments_lexer": "ipython3",
   "version": "3.13.5"
  }
 },
 "nbformat": 4,
 "nbformat_minor": 5
}
