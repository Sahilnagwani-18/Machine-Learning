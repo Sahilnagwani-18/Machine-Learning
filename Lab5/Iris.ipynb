{
 "cells": [
  {
   "cell_type": "code",
   "execution_count": 26,
   "id": "1bc777ce",
   "metadata": {},
   "outputs": [],
   "source": [
    "#Flow:\n",
    "#DataSet->Noramlise->Oversample(two techniques)->train,val,test Split-> train model ->Test accuracy(individual model) -> Combine the models and test accuracy"
   ]
  },
  {
   "cell_type": "code",
   "execution_count": null,
   "id": "f6095cd7",
   "metadata": {},
   "outputs": [],
   "source": []
  },
  {
   "cell_type": "code",
   "execution_count": 27,
   "id": "4c2a8896",
   "metadata": {},
   "outputs": [],
   "source": [
    "#Create a Multi Class Classifier using Linear regression.\n",
    "#One-vs-Rest strategy"
   ]
  },
  {
   "cell_type": "markdown",
   "id": "5e870d7e",
   "metadata": {},
   "source": []
  },
  {
   "cell_type": "code",
   "execution_count": 28,
   "id": "9c08381f",
   "metadata": {},
   "outputs": [],
   "source": [
    "import numpy as np\n",
    "import pandas as pd"
   ]
  },
  {
   "cell_type": "code",
   "execution_count": 29,
   "id": "a5da4a89",
   "metadata": {},
   "outputs": [],
   "source": [
    "path=\"Iris.csv\""
   ]
  },
  {
   "cell_type": "code",
   "execution_count": 30,
   "id": "89f514c1",
   "metadata": {},
   "outputs": [
    {
     "data": {
      "text/html": [
       "<div>\n",
       "<style scoped>\n",
       "    .dataframe tbody tr th:only-of-type {\n",
       "        vertical-align: middle;\n",
       "    }\n",
       "\n",
       "    .dataframe tbody tr th {\n",
       "        vertical-align: top;\n",
       "    }\n",
       "\n",
       "    .dataframe thead th {\n",
       "        text-align: right;\n",
       "    }\n",
       "</style>\n",
       "<table border=\"1\" class=\"dataframe\">\n",
       "  <thead>\n",
       "    <tr style=\"text-align: right;\">\n",
       "      <th></th>\n",
       "      <th>SepalLengthCm</th>\n",
       "      <th>SepalWidthCm</th>\n",
       "      <th>PetalLengthCm</th>\n",
       "      <th>PetalWidthCm</th>\n",
       "      <th>Species</th>\n",
       "    </tr>\n",
       "  </thead>\n",
       "  <tbody>\n",
       "    <tr>\n",
       "      <th>0</th>\n",
       "      <td>5.1</td>\n",
       "      <td>3.5</td>\n",
       "      <td>1.4</td>\n",
       "      <td>0.2</td>\n",
       "      <td>Iris-setosa</td>\n",
       "    </tr>\n",
       "    <tr>\n",
       "      <th>1</th>\n",
       "      <td>4.9</td>\n",
       "      <td>3.0</td>\n",
       "      <td>1.4</td>\n",
       "      <td>0.2</td>\n",
       "      <td>Iris-setosa</td>\n",
       "    </tr>\n",
       "    <tr>\n",
       "      <th>2</th>\n",
       "      <td>4.7</td>\n",
       "      <td>3.2</td>\n",
       "      <td>1.3</td>\n",
       "      <td>0.2</td>\n",
       "      <td>Iris-setosa</td>\n",
       "    </tr>\n",
       "    <tr>\n",
       "      <th>3</th>\n",
       "      <td>4.6</td>\n",
       "      <td>3.1</td>\n",
       "      <td>1.5</td>\n",
       "      <td>0.2</td>\n",
       "      <td>Iris-setosa</td>\n",
       "    </tr>\n",
       "    <tr>\n",
       "      <th>4</th>\n",
       "      <td>5.0</td>\n",
       "      <td>3.6</td>\n",
       "      <td>1.4</td>\n",
       "      <td>0.2</td>\n",
       "      <td>Iris-setosa</td>\n",
       "    </tr>\n",
       "    <tr>\n",
       "      <th>...</th>\n",
       "      <td>...</td>\n",
       "      <td>...</td>\n",
       "      <td>...</td>\n",
       "      <td>...</td>\n",
       "      <td>...</td>\n",
       "    </tr>\n",
       "    <tr>\n",
       "      <th>145</th>\n",
       "      <td>6.7</td>\n",
       "      <td>3.0</td>\n",
       "      <td>5.2</td>\n",
       "      <td>2.3</td>\n",
       "      <td>Iris-virginica</td>\n",
       "    </tr>\n",
       "    <tr>\n",
       "      <th>146</th>\n",
       "      <td>6.3</td>\n",
       "      <td>2.5</td>\n",
       "      <td>5.0</td>\n",
       "      <td>1.9</td>\n",
       "      <td>Iris-virginica</td>\n",
       "    </tr>\n",
       "    <tr>\n",
       "      <th>147</th>\n",
       "      <td>6.5</td>\n",
       "      <td>3.0</td>\n",
       "      <td>5.2</td>\n",
       "      <td>2.0</td>\n",
       "      <td>Iris-virginica</td>\n",
       "    </tr>\n",
       "    <tr>\n",
       "      <th>148</th>\n",
       "      <td>6.2</td>\n",
       "      <td>3.4</td>\n",
       "      <td>5.4</td>\n",
       "      <td>2.3</td>\n",
       "      <td>Iris-virginica</td>\n",
       "    </tr>\n",
       "    <tr>\n",
       "      <th>149</th>\n",
       "      <td>5.9</td>\n",
       "      <td>3.0</td>\n",
       "      <td>5.1</td>\n",
       "      <td>1.8</td>\n",
       "      <td>Iris-virginica</td>\n",
       "    </tr>\n",
       "  </tbody>\n",
       "</table>\n",
       "<p>150 rows × 5 columns</p>\n",
       "</div>"
      ],
      "text/plain": [
       "     SepalLengthCm  SepalWidthCm  PetalLengthCm  PetalWidthCm         Species\n",
       "0              5.1           3.5            1.4           0.2     Iris-setosa\n",
       "1              4.9           3.0            1.4           0.2     Iris-setosa\n",
       "2              4.7           3.2            1.3           0.2     Iris-setosa\n",
       "3              4.6           3.1            1.5           0.2     Iris-setosa\n",
       "4              5.0           3.6            1.4           0.2     Iris-setosa\n",
       "..             ...           ...            ...           ...             ...\n",
       "145            6.7           3.0            5.2           2.3  Iris-virginica\n",
       "146            6.3           2.5            5.0           1.9  Iris-virginica\n",
       "147            6.5           3.0            5.2           2.0  Iris-virginica\n",
       "148            6.2           3.4            5.4           2.3  Iris-virginica\n",
       "149            5.9           3.0            5.1           1.8  Iris-virginica\n",
       "\n",
       "[150 rows x 5 columns]"
      ]
     },
     "execution_count": 30,
     "metadata": {},
     "output_type": "execute_result"
    }
   ],
   "source": [
    "df=pd.read_csv(path)\n",
    "df.drop('Id',axis=1)"
   ]
  },
  {
   "cell_type": "code",
   "execution_count": 31,
   "id": "7deb0a90",
   "metadata": {},
   "outputs": [
    {
     "name": "stdout",
     "output_type": "stream",
     "text": [
      "<class 'pandas.core.frame.DataFrame'>\n",
      "RangeIndex: 150 entries, 0 to 149\n",
      "Data columns (total 6 columns):\n",
      " #   Column         Non-Null Count  Dtype  \n",
      "---  ------         --------------  -----  \n",
      " 0   Id             150 non-null    int64  \n",
      " 1   SepalLengthCm  150 non-null    float64\n",
      " 2   SepalWidthCm   150 non-null    float64\n",
      " 3   PetalLengthCm  150 non-null    float64\n",
      " 4   PetalWidthCm   150 non-null    float64\n",
      " 5   Species        150 non-null    object \n",
      "dtypes: float64(4), int64(1), object(1)\n",
      "memory usage: 7.2+ KB\n"
     ]
    }
   ],
   "source": [
    "df.info()"
   ]
  },
  {
   "cell_type": "code",
   "execution_count": 32,
   "id": "20e4532d",
   "metadata": {},
   "outputs": [],
   "source": [
    "#Standard  Scaler\n",
    "def standard_scaler(df):\n",
    "    for c in df.columns:\n",
    "        if df[c].dtype != 'O':\n",
    "            mean=df[c].mean()\n",
    "            std=df[c].std()\n",
    "            if mean!=std:\n",
    "                df[c]=(df[c]-mean)/(std)\n",
    "    return df"
   ]
  },
  {
   "cell_type": "code",
   "execution_count": 33,
   "id": "085b0026",
   "metadata": {},
   "outputs": [],
   "source": [
    "df=standard_scaler(df)"
   ]
  },
  {
   "cell_type": "code",
   "execution_count": 34,
   "id": "0bf7fb5e",
   "metadata": {},
   "outputs": [],
   "source": [
    "#Creating new Datasets\n",
    "classes = [x for x in set(df['Species'])]\n",
    "for i in range(len(classes)):\n",
    "    file_name = f'iris_class_{i}.csv'\n",
    "    df_copy = df.copy()\n",
    "    df_copy['Species'] = np.where(df_copy['Species'] == classes[i], 1, 0)\n",
    "    df_copy.to_csv(file_name, index=False)\n"
   ]
  },
  {
   "cell_type": "code",
   "execution_count": 35,
   "id": "e1a20172",
   "metadata": {},
   "outputs": [],
   "source": [
    "#Split the Total Rows into train,val,test\n",
    "def get_split(n):\n",
    "    train=int(0.8*n)\n",
    "    val=int(0.1*n)+train\n",
    "    return train,val"
   ]
  },
  {
   "cell_type": "code",
   "execution_count": 36,
   "id": "530a352b",
   "metadata": {},
   "outputs": [],
   "source": [
    "#Split The Data into Train,Validate,Test Data\n",
    "# 80,10,10 Percentages\n",
    "def create_split(df):\n",
    "    df_positive_samples=df[df['Species']==1].sample(frac=1)\n",
    "    df_negative_samples=df[df['Species']==0].sample(frac=1)\n",
    "    pos_samples=len(df_positive_samples)\n",
    "    neg_samples=len(df_negative_samples)\n",
    "    ptrain,pval=get_split(pos_samples)\n",
    "    ntrain,nval=get_split(neg_samples)\n",
    "    df_pos_train=df_positive_samples.iloc[:ptrain]\n",
    "    df_pos_val=df_positive_samples.iloc[ptrain:pval]\n",
    "    df_pos_test=df_positive_samples.iloc[pval:]\n",
    "    df_neg_train=df_negative_samples.iloc[:ntrain]\n",
    "    df_neg_val=df_negative_samples.iloc[ntrain:nval]\n",
    "    df_neg_test=df_negative_samples.iloc[nval:]\n",
    "    df_train=pd.concat([df_pos_train,df_neg_train],ignore_index=True)\n",
    "    df_val=pd.concat([df_pos_val,df_neg_val],ignore_index=True)\n",
    "    df_test=pd.concat([df_pos_test,df_neg_test],ignore_index=True)\n",
    "    return df_train,df_val,df_test"
   ]
  },
  {
   "cell_type": "code",
   "execution_count": 37,
   "id": "8a035a83",
   "metadata": {},
   "outputs": [],
   "source": [
    "# Two Methods to Duplicate the DataPoints\n",
    "# 1 Replicate the Data\n",
    "# 2 SMOTE (Synthetic Minority Over-Sampling Technique)\n",
    "\n",
    "def replicate_data(df):\n",
    "    df_samples=df[df['Species']==1]\n",
    "    df=pd.concat([df,df_samples],ignore_index=True)\n",
    "    return df"
   ]
  },
  {
   "cell_type": "code",
   "execution_count": 38,
   "id": "1624cb72",
   "metadata": {},
   "outputs": [],
   "source": [
    "#SMOTE -> Synthetic Minority Over-Sampling Technique\n",
    "# Take Two points (x1,x2)\n",
    "#New point xnew=l*x1+(1-l)*x2(Where 0<l<1)\n",
    "# There are many Strategies from which you can choose x2 for a point x1(Lets Say the Nearest Point to X1)\n",
    "#Consider the strategy of Nearest point as x2 and random probability lambda(Fixed lambda can create duplicate points if x1 and x2 are mutually near to each other)\n",
    "\n",
    "#How to find the nearest point ? Find the Euclidean distance betweeen each point and find which point has the smallest Euclidean distance(L2-Norm)\n",
    "\n",
    "#Time Complexity ->O(n**2)\n",
    "def find_nearest(idx,df):\n",
    "  dist=1e100\n",
    "  ans_idx=-1\n",
    "  for i in range(len(df)):\n",
    "    if i == idx:\n",
    "      continue\n",
    "    d=0\n",
    "    for c in df.columns:\n",
    "      d+=(df.iloc[i][c]-df.iloc[idx][c])**2\n",
    "    d=d**(0.5)\n",
    "    if dist>d:\n",
    "      d=dist\n",
    "      ans_idx=i\n",
    "  \n",
    "  return ans_idx\n",
    "    "
   ]
  },
  {
   "cell_type": "code",
   "execution_count": 39,
   "id": "ccf2040b",
   "metadata": {},
   "outputs": [],
   "source": [
    "import random as rd"
   ]
  },
  {
   "cell_type": "code",
   "execution_count": 40,
   "id": "28f0ae7f",
   "metadata": {},
   "outputs": [],
   "source": [
    "#Find the Synthetic point for SMOTE\n",
    "def syn_data(idx,df):\n",
    "  ans_idx=find_nearest(idx,df)\n",
    "  lam=rd.uniform(0,1)\n",
    "  new_data_point={}\n",
    "  for c in df.columns:\n",
    "    new_data_point[c]=lam*df.iloc[idx][c]+(1-lam)*(df.iloc[ans_idx][c])\n",
    "\n",
    "  return pd.Series(new_data_point)\n"
   ]
  },
  {
   "cell_type": "code",
   "execution_count": 41,
   "id": "e3bcdf8c",
   "metadata": {},
   "outputs": [],
   "source": [
    "#SMOTE\n",
    "def SMOTE(df):\n",
    "  df_minority_samples=df[df['Species']==1]\n",
    "  df_copy=df.copy()\n",
    "  for i in range(len(df_minority_samples)):\n",
    "    new_point=syn_data(i,df_minority_samples)\n",
    "    df_copy=pd.concat([df_copy,new_point.to_frame().T],ignore_index=True)\n",
    "  return df_copy"
   ]
  },
  {
   "cell_type": "code",
   "execution_count": 42,
   "id": "49f4f8cc",
   "metadata": {},
   "outputs": [],
   "source": [
    "#Linear Regression Function\n",
    "from regression import linear_regression"
   ]
  },
  {
   "cell_type": "code",
   "execution_count": 43,
   "id": "8d86f360",
   "metadata": {},
   "outputs": [],
   "source": [
    "\n",
    "#Replication\n",
    "models_replication=[]\n",
    "for i in range(3):\n",
    "  path=f\"iris_class_{i}.csv\"\n",
    "  data=pd.read_csv(path)\n",
    "  data=replicate_data(data)\n",
    "  train,val,test=create_split(data)\n",
    "  train_x = train.iloc[:,:-1].to_numpy() \n",
    "  train_y = train.iloc[:,-1].to_numpy()\n",
    "  val_x   = val.iloc[:,:-1].to_numpy()\n",
    "  val_y   = val.iloc[:,-1].to_numpy()\n",
    "  test_x  = test.iloc[:,:-1].to_numpy()\n",
    "  test_y  = test.iloc[:,-1].to_numpy()\n",
    "  wt=linear_regression(train_x,train_y,val_x,val_y)\n",
    "  models_replication.append(wt)\n"
   ]
  },
  {
   "cell_type": "code",
   "execution_count": 45,
   "id": "d20a75ef",
   "metadata": {},
   "outputs": [],
   "source": [
    "\n",
    "#SMOTE\n",
    "models_smote=[]\n",
    "for i in range(3):\n",
    "  path=f\"iris_class_{i}.csv\"\n",
    "  data=pd.read_csv(path)\n",
    "  data=SMOTE(data)\n",
    "  train,val,test=create_split(data)\n",
    "  train_x = train.iloc[:,:-1].to_numpy() \n",
    "  train_y = train.iloc[:,-1].to_numpy()\n",
    "  val_x   = val.iloc[:,:-1].to_numpy()\n",
    "  val_y   = val.iloc[:,-1].to_numpy()\n",
    "  test_x  = test.iloc[:,:-1].to_numpy()\n",
    "  test_y  = test.iloc[:,-1].to_numpy()\n",
    "  wt=linear_regression(train_x,train_y,val_x,val_y)\n",
    "  models_smote.append(wt)\n"
   ]
  },
  {
   "cell_type": "code",
   "execution_count": 46,
   "id": "3498509f",
   "metadata": {},
   "outputs": [],
   "source": [
    "# Accuracy of Data set\n",
    "y_lables=[]\n",
    "df=pd.read_csv(\"Iris.csv\")\n",
    "for data in df['Species']:\n",
    "  for i in range(3):\n",
    "    if data==classes[i]:\n",
    "      y_lables.append(i)\n",
    "      break\n"
   ]
  },
  {
   "cell_type": "code",
   "execution_count": 47,
   "id": "921f92c4",
   "metadata": {},
   "outputs": [],
   "source": [
    "df=standard_scaler(df)\n",
    "x=np.array(df.drop('Species',axis=1))\n",
    "x=x.T\n",
    "x= np.vstack((np.ones((1, x.shape[1])),x))\n"
   ]
  },
  {
   "cell_type": "code",
   "execution_count": 48,
   "id": "401be420",
   "metadata": {},
   "outputs": [],
   "source": [
    "#Replication\n",
    "rep_outputs=[]\n",
    "for i in range(3):\n",
    "  rep_outputs.append(x.T@models_replication[i])\n",
    "rep_labels=[]\n",
    "for i in range(x.shape[1]):\n",
    "  label=0\n",
    "  val=rep_outputs[0][i]\n",
    "  for j in range(1,3):\n",
    "    if rep_outputs[j][i]>val:\n",
    "      label=j\n",
    "      val=rep_outputs[j][i]\n",
    "  rep_labels.append(label)"
   ]
  },
  {
   "cell_type": "code",
   "execution_count": 49,
   "id": "fc0967de",
   "metadata": {},
   "outputs": [
    {
     "name": "stdout",
     "output_type": "stream",
     "text": [
      "88.66666666666667\n"
     ]
    }
   ],
   "source": [
    "n=len(rep_labels)\n",
    "correct=0\n",
    "for i in range(n):\n",
    "  if(rep_labels[i]==y_lables[i]):\n",
    "    correct+=1\n",
    "print((correct/n)*100)"
   ]
  },
  {
   "cell_type": "code",
   "execution_count": 50,
   "id": "cc28fc92",
   "metadata": {},
   "outputs": [],
   "source": [
    "#SMOTE\n",
    "smote_outputs=[]\n",
    "for i in range(3):\n",
    "  smote_outputs.append(x.T@models_smote[i])\n",
    "smote_labels=[]\n",
    "for i in range(x.shape[1]):\n",
    "  label=0\n",
    "  val=smote_outputs[0][i]\n",
    "  for j in range(1,3):\n",
    "    if smote_outputs[j][i]>val:\n",
    "      label=j\n",
    "      val=smote_outputs[j][i]\n",
    "  smote_labels.append(label)"
   ]
  },
  {
   "cell_type": "code",
   "execution_count": 51,
   "id": "e27d38e6",
   "metadata": {},
   "outputs": [
    {
     "name": "stdout",
     "output_type": "stream",
     "text": [
      "92.0\n"
     ]
    }
   ],
   "source": [
    "n=len(smote_labels)\n",
    "correct=0\n",
    "for i in range(n):\n",
    "  if(smote_labels[i]==y_lables[i]):\n",
    "    correct+=1\n",
    "print((correct/n)*100)"
   ]
  }
 ],
 "metadata": {
  "kernelspec": {
   "display_name": "base",
   "language": "python",
   "name": "python3"
  },
  "language_info": {
   "codemirror_mode": {
    "name": "ipython",
    "version": 3
   },
   "file_extension": ".py",
   "mimetype": "text/x-python",
   "name": "python",
   "nbconvert_exporter": "python",
   "pygments_lexer": "ipython3",
   "version": "3.13.5"
  }
 },
 "nbformat": 4,
 "nbformat_minor": 5
}
